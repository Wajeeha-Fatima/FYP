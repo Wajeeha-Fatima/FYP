{
  "cells": [
    {
      "cell_type": "code",
      "source": [
        "from google.colab import drive\n",
        "drive.mount('/content/drive')"
      ],
      "metadata": {
        "colab": {
          "base_uri": "https://localhost:8080/"
        },
        "id": "FXSlrax-_dZ0",
        "outputId": "ecdb78b5-f694-40c0-e588-ce71041af7c5"
      },
      "execution_count": 1,
      "outputs": [
        {
          "output_type": "stream",
          "name": "stdout",
          "text": [
            "Mounted at /content/drive\n"
          ]
        }
      ]
    },
    {
      "cell_type": "code",
      "execution_count": 2,
      "metadata": {
        "id": "z83xysPU_cOs"
      },
      "outputs": [],
      "source": [
        "\"\"\"# Importing Libraries\"\"\"\n",
        "import numpy as np\n",
        "import pandas as pd\n",
        "import matplotlib.pyplot as plt\n",
        "import scipy\n",
        "from scipy.interpolate import interp1d\n",
        "from scipy.stats import kurtosis\n",
        "from scipy.stats import skew\n",
        "from sklearn import preprocessing\n",
        "from sklearn.preprocessing import normalize\n",
        "from scipy.ndimage import zoom\n",
        "from skimage.measure import block_reduce\n",
        "from skimage.transform import resize\n",
        "from sklearn.model_selection import train_test_split\n",
        "import tensorflow as tf\n",
        "from keras.optimizers import Adam\n",
        "from sklearn.metrics import f1_score, accuracy_score, confusion_matrix\n",
        "from tensorflow.keras.optimizers import Adam\n",
        "from tensorflow.keras.models import Sequential\n",
        "from tensorflow.keras.layers import BatchNormalization, Conv2D, MaxPooling2D, Flatten, Dense, Activation, Dropout\n",
        "from tensorflow.keras.utils import to_categorical\n",
        "from keras.layers.core import Reshape\n",
        "from keras.layers import LSTM\n",
        "from keras import regularizers\n",
        "\n",
        "tf.compat.v1.enable_eager_execution()"
      ]
    },
    {
      "cell_type": "code",
      "execution_count": 3,
      "metadata": {
        "id": "RIWe1YyI_cO1"
      },
      "outputs": [],
      "source": [
        "\"\"\"# Loading Data\"\"\"\n",
        "\n",
        "path = \"drive/MyDrive/Cog_DataSets/testing/\"\n",
        "# path = \"drive/MyDrive/Colab Notebooks/CogAge/Datasets/testing/\"\n",
        "test_acc = np.load(path+\"testAccelerometer.npy\")\n",
        "test_grav = np.load(path+\"testGravity.npy\")\n",
        "test_gyro = np.load(path+\"testGyroscope.npy\")\n",
        "test_jinsAcc = np.load(path+\"testJinsAccelerometer.npy\")\n",
        "test_jinsGyro = np.load(path+\"testJinsGyroscope.npy\")\n",
        "test_Label =np.load(path+\"testLabels.npy\") \n",
        "test_linAcc = np.load(path+\"testLinearAcceleration.npy\")\n",
        "test_MsAcc = np.load(path+\"testMSAccelerometer.npy\")\n",
        "test_MsGyro = np.load(path + \"testMSGyroscope.npy\")\n",
        "test_MsMag = np.load(path+\"testMagnetometer.npy\")\n",
        "# test_acc\n",
        "\n",
        "path = \"drive/MyDrive/Cog_DataSets/training/\"\n",
        "# path = \"drive/MyDrive/Colab Notebooks/CogAge/Datasets/training/\"\n",
        "train_acc = np.load(path+\"trainAccelerometer.npy\")\n",
        "train_grav = np.load(path+\"trainGravity.npy\")\n",
        "train_gyro = np.load(path+\"trainGyroscope.npy\")\n",
        "train_jinsAcc = np.load(path+\"trainJinsAccelerometer.npy\")\n",
        "train_jinsGyro = np.load(path+\"trainJinsGyroscope.npy\")\n",
        "train_Label =np.load(path+\"trainLabels.npy\") \n",
        "train_linAcc = np.load(path+\"trainLinearAcceleration.npy\")\n",
        "train_MsAcc = np.load(path+\"trainMSAccelerometer.npy\")\n",
        "train_MsGyro = np.load(path + \"trainMSGyroscope.npy\")\n",
        "train_MsMag = np.load(path+\"trainMagnetometer.npy\")\n",
        "# print(train_Label.shape)"
      ]
    },
    {
      "cell_type": "code",
      "execution_count": 4,
      "metadata": {
        "colab": {
          "base_uri": "https://localhost:8080/"
        },
        "id": "eCXeimos_cO6",
        "outputId": "a48da8e8-a8f9-4524-8782-8d6942f0a6e8"
      },
      "outputs": [
        {
          "output_type": "stream",
          "name": "stdout",
          "text": [
            "Shape of all sensors after up/down sample...  (4572, 400, 3) (4572, 400, 3) (4572, 400, 3) (4572, 400, 3) (4572, 400, 3) (4572, 400, 3) (4572, 400, 3) (4572, 400, 3) (4572, 400, 3)\n"
          ]
        }
      ],
      "source": [
        "\"\"\"# Reshape and stack Data Before Fitting to Model\"\"\"\n",
        "# changing shape of sensor data to (#,400,3)\n",
        "# downsample\n",
        "train_acc_reshaped = block_reduce(train_acc, block_size=(1, 2, 1), func=np.mean)\n",
        "train_gyro_reshaped = block_reduce(train_gyro, block_size=(1, 2, 1), func=np.mean)\n",
        "train_grav_reshaped = block_reduce(train_grav, block_size=(1, 2, 1), func=np.mean)\n",
        "train_linAcc_reshaped = block_reduce(train_linAcc, block_size=(1, 2, 1), func=np.mean)\n",
        "# upsample\n",
        "train_MsAcc_reshaped = resize(train_MsAcc, (2284, 400, 3), mode='edge')\n",
        "train_MsGyro_reshaped = resize(train_MsGyro, (2284, 400, 3), mode='edge')\n",
        "# upsample\n",
        "train_MsMag_reshaped = np.repeat(train_MsMag, 2, axis=1)\n",
        "train_jinsAcc_reshaped = np.repeat(train_jinsAcc, 5, axis=1)\n",
        "train_jinsGyro_reshaped = np.repeat(train_jinsGyro, 5, axis=1)\n",
        "\n",
        "test_acc_reshaped = block_reduce(test_acc, block_size=(1, 2, 1), func=np.mean)\n",
        "test_gyro_reshaped = block_reduce(test_gyro, block_size=(1, 2, 1), func=np.mean)\n",
        "test_grav_reshaped = block_reduce(test_grav, block_size=(1, 2, 1), func=np.mean)\n",
        "test_linAcc_reshaped = block_reduce(test_linAcc, block_size=(1, 2, 1), func=np.mean)\n",
        "test_MsAcc_reshaped = resize(test_MsAcc, (2288, 400, 3), mode='edge')\n",
        "test_MsGyro_reshaped = resize(test_MsGyro, (2288, 400, 3), mode='edge')\n",
        "test_MsMag_reshaped = np.repeat(test_MsMag, 2, axis=1)\n",
        "test_jinsAcc_reshaped = np.repeat(test_jinsAcc, 5, axis=1)\n",
        "test_jinsGyro_reshaped = np.repeat(test_jinsGyro, 5, axis=1)\n",
        "\n",
        "# all data of shape #,400,3\n",
        "# adding all relative data.\n",
        "# Mobile training accelerometer + Mobile testing accelerometer data\n",
        "train_acc_reshaped = np.append(train_acc_reshaped,test_acc_reshaped, axis=0)\n",
        "train_gyro_reshaped = np.append(train_gyro_reshaped,test_gyro_reshaped, axis=0)\n",
        "train_grav_reshaped = np.append(train_grav_reshaped,test_grav_reshaped, axis=0)\n",
        "train_linAcc_reshaped = np.append(train_linAcc_reshaped,test_linAcc_reshaped, axis=0)\n",
        "train_MsAcc_reshaped = np.append(train_MsAcc_reshaped,test_MsAcc_reshaped, axis=0)\n",
        "train_MsGyro_reshaped = np.append(train_MsGyro_reshaped,test_MsGyro_reshaped, axis=0)\n",
        "train_MsMag_reshaped = np.append(train_MsMag_reshaped,test_MsMag_reshaped, axis=0)\n",
        "train_jinsAcc_reshaped = np.append(train_jinsAcc_reshaped,test_jinsAcc_reshaped, axis=0)\n",
        "train_jinsGyro_reshaped = np.append(train_jinsGyro_reshaped,test_jinsGyro_reshaped, axis=0)\n",
        "\n",
        "\n",
        "print(\"Shape of all sensors after up/down sample... \", train_acc_reshaped.shape, train_gyro_reshaped.shape, train_grav_reshaped.shape, train_linAcc_reshaped.shape\n",
        "                       , train_MsAcc_reshaped.shape, train_MsGyro_reshaped.shape, train_MsMag_reshaped.shape,\n",
        "                       train_jinsAcc_reshaped.shape, train_jinsGyro_reshaped.shape)\n",
        "\n",
        "# all data of shape 4572,400,3\n",
        "# 4572 = 2284(training) + 2288(testing)\n",
        "\n",
        "\n",
        "# stack\n",
        "all_data = np.stack([train_acc_reshaped, train_gyro_reshaped, train_grav_reshaped, train_linAcc_reshaped\n",
        "                       , train_MsAcc_reshaped, train_MsGyro_reshaped, train_MsMag_reshaped,\n",
        "                       train_jinsAcc_reshaped, train_jinsGyro_reshaped], axis=-1)\n",
        "\n",
        "all_Label = np.append(train_Label, test_Label, axis=-1)\n"
      ]
    },
    {
      "cell_type": "code",
      "execution_count": 5,
      "metadata": {
        "colab": {
          "base_uri": "https://localhost:8080/"
        },
        "id": "qDqlmwVY_cPA",
        "outputId": "82791ae0-7664-47d6-b034-461bdd9581f3"
      },
      "outputs": [
        {
          "output_type": "stream",
          "name": "stdout",
          "text": [
            "\n",
            "Shape of training and testin data + labels...\n",
            "\n",
            "(3200, 400, 3, 9) (1372, 400, 3, 9)\n",
            "(3200,) (1372,)\n",
            "Shape of training + validation Data\n",
            "(2560, 400, 3, 9) (2560,)\n",
            "Shape of training + validation Labels\n",
            "(2560, 55) (640, 55)\n"
          ]
        }
      ],
      "source": [
        "# 70% training data + labels\n",
        "train_data = all_data[: int(all_data.shape[0]*0.7)]\n",
        "# 30% testing data + labels\n",
        "test_data = all_data[int(all_data.shape[0]*0.7):]\n",
        "train_labels = all_Label[: int(all_Label.shape[0]*0.7)]\n",
        "test_labels = all_Label[int(all_Label.shape[0]*0.7):]\n",
        "\n",
        "print(\"\\nShape of training and testin data + labels...\\n\")\n",
        "print(train_data.shape, test_data.shape)\n",
        "print(train_labels.shape, test_labels.shape)\n",
        "\n",
        "\n",
        "# Split the data into training and validation sets\n",
        "x_train, x_val, y_train, y_val = train_test_split(train_data, train_labels, test_size=0.2, random_state=42)\n",
        "\n",
        "print(\"Shape of training + validation Data\")\n",
        "print(np.shape(x_train), np.shape(y_train))\n",
        "\n",
        "y_train = to_categorical(y_train, num_classes=55)\n",
        "y_val = to_categorical(y_val, num_classes=55)\n",
        "\n",
        "print(\"Shape of training + validation Labels\")\n",
        "print(np.shape(y_train), np.shape(y_val))\n"
      ]
    },
    {
      "cell_type": "code",
      "source": [
        "# HYPER PARAMTERS\n",
        "\n",
        "# Filter parameters, i.e. about the number of inputs processed by each neuron of the convolutional layer\n",
        "filter1Size = (11,1)\n",
        "filter2Size = (13,1)\n",
        "filter3Size = (13,1)\n",
        "\n",
        "# Downsampling factors of the pooling layers\n",
        "poolingLayer1Factor = (2,1)\n",
        "poolingLayer2Factor = (3,1)\n",
        "poolingLayer3Factor = (2,1)\n",
        "\n",
        "# Number of feature maps processed by each convolutional layer\n",
        "nbFeaturesLayer1 = 60\n",
        "nbFeaturesLayer2 = 40\n",
        "nbFeaturesLayer3 = 30\n",
        "\n",
        "# Activation function of the convolutional layer(s)\n",
        "activationConv = 'relu'\n",
        "\n",
        "# Output dimension of the LSTM\n",
        "outputLSTM = 150\n",
        "\n",
        "# Parameters of the dense layer\n",
        "activationMLP = 'relu'\n",
        "inputMLP = 2500\n",
        "\n",
        "# Training parameters\n",
        "batchSize = 400\n",
        "numberOfEpochs = 10\n",
        "learningRate = 0.001\n",
        "\n",
        "input_shape = (400,3,9)\n",
        "nbClasses = 55\n",
        "timeWindow = 400\n",
        "nbSensors = 9"
      ],
      "metadata": {
        "id": "haF3WQi7AOho"
      },
      "execution_count": 44,
      "outputs": []
    },
    {
      "cell_type": "code",
      "execution_count": 45,
      "metadata": {
        "id": "U1JO4XtV_cPE"
      },
      "outputs": [],
      "source": [
        "#-------------------------------------------------------------------------------------------------------\n",
        "# normConv1Lstm: define a batch normalization + 2 convolutional/max-pooling + LSTM DNN\n",
        "#-------------------------------------------------------------------------------------------------------\n",
        "def normConv1Lstm(\n",
        "    inputShape,\n",
        "    nkerns,\n",
        "    filterSizes,\n",
        "    poolSizes,\n",
        "    activationConv,\n",
        "    timeWindow,\n",
        "    nbSensors,\n",
        "    outputLSTM,\n",
        "    inputMLP,\n",
        "    activationMLP,\n",
        "    nbClasses,\n",
        "    withSoftmax=True):\n",
        "\n",
        "    outputSizeLastConv = int((timeWindow-filterSizes[0][0]+1)/poolSizes[0][0])\n",
        "    #outputSizeLastConv = (timeWindow-filterSizes[0][0]+1)\n",
        "\n",
        "    model = Sequential()\n",
        "\n",
        "    # Batch normalization layer\n",
        "    model.add(BatchNormalization(input_shape=inputShape))\n",
        "\n",
        "    # Convolution + max-pooling layers\n",
        "    model.add(Conv2D(nkerns[0], kernel_size=filterSizes[0], activation=activationConv, kernel_regularizer=regularizers.L2(0.02)))\n",
        "    model.add(MaxPooling2D(pool_size=poolSizes[0]))\n",
        "\n",
        "    # model.add(Conv2D(nkerns[0], kernel_size=filterSizes[0], activation='linear', input_shape=inputShape))\n",
        "    # model.add(BatchNormalization())\n",
        "    # model.add(Activation(activationConv))\n",
        "    # model.add(MaxPooling2D(pool_size=poolSizes[0]))\n",
        "    print(model.layers[-1].output_shape)\n",
        "    # LSTM layer with a many-to-one implementation\n",
        "    # Note: size of the output = (outputSizeLastConv, outputLSTM)\n",
        "    model.add(Reshape((outputSizeLastConv,3*nkerns[0]))) \n",
        "    model.add(LSTM(outputLSTM,return_sequences=False))\n",
        "    print('LSTM output size: ---------------------------')\n",
        "    print(model.layers[-1].output_shape)\n",
        "\n",
        "    # Fully-connected layer\n",
        "    model.add(Dense(inputMLP, activation=activationMLP, kernel_regularizer=regularizers.L2(0.02)))\n",
        "    print('Dense layer size: ---------------------------')\n",
        "    print(model.layers[-1].output_shape)\n",
        "    # model.add(Dropout(0.5))\n",
        "\n",
        "    # Softmax layer\n",
        "    if withSoftmax:\n",
        "        model.add(Dense(nbClasses, activation='softmax'))\n",
        "\n",
        "    # Return the model\n",
        "    return model"
      ]
    },
    {
      "cell_type": "code",
      "source": [
        "model = normConv1Lstm(\n",
        "    inputShape=input_shape,\n",
        "    nkerns=[nbFeaturesLayer1, nbFeaturesLayer2, nbFeaturesLayer3],\n",
        "    filterSizes=[filter1Size, filter2Size, filter3Size],\n",
        "    poolSizes=[poolingLayer1Factor, poolingLayer2Factor, poolingLayer3Factor],\n",
        "    activationConv='relu',\n",
        "    timeWindow=timeWindow,\n",
        "    nbSensors=nbSensors,\n",
        "    outputLSTM=outputLSTM,\n",
        "    inputMLP=inputMLP,\n",
        "    activationMLP=activationMLP,\n",
        "    nbClasses=nbClasses,\n",
        "    withSoftmax=True)"
      ],
      "metadata": {
        "colab": {
          "base_uri": "https://localhost:8080/"
        },
        "id": "Y7PwbofUAV0B",
        "outputId": "76edfba3-32e2-4ffc-c11a-5b8868b8ab47"
      },
      "execution_count": 46,
      "outputs": [
        {
          "output_type": "stream",
          "name": "stdout",
          "text": [
            "(None, 195, 3, 60)\n",
            "LSTM output size: ---------------------------\n",
            "(None, 150)\n",
            "Dense layer size: ---------------------------\n",
            "(None, 2500)\n"
          ]
        }
      ]
    },
    {
      "cell_type": "code",
      "source": [
        "model.summary()"
      ],
      "metadata": {
        "colab": {
          "base_uri": "https://localhost:8080/"
        },
        "id": "20vF4SPWAj_m",
        "outputId": "28d18b3d-b6f4-4be9-d0e6-da4bc601e03d"
      },
      "execution_count": 47,
      "outputs": [
        {
          "output_type": "stream",
          "name": "stdout",
          "text": [
            "Model: \"sequential_3\"\n",
            "_________________________________________________________________\n",
            " Layer (type)                Output Shape              Param #   \n",
            "=================================================================\n",
            " batch_normalization_3 (Batc  (None, 400, 3, 9)        36        \n",
            " hNormalization)                                                 \n",
            "                                                                 \n",
            " conv2d_3 (Conv2D)           (None, 390, 3, 60)        6000      \n",
            "                                                                 \n",
            " max_pooling2d_3 (MaxPooling  (None, 195, 3, 60)       0         \n",
            " 2D)                                                             \n",
            "                                                                 \n",
            " reshape_3 (Reshape)         (None, 195, 180)          0         \n",
            "                                                                 \n",
            " lstm_3 (LSTM)               (None, 150)               198600    \n",
            "                                                                 \n",
            " dense_6 (Dense)             (None, 2500)              377500    \n",
            "                                                                 \n",
            " dense_7 (Dense)             (None, 55)                137555    \n",
            "                                                                 \n",
            "=================================================================\n",
            "Total params: 719,691\n",
            "Trainable params: 719,673\n",
            "Non-trainable params: 18\n",
            "_________________________________________________________________\n"
          ]
        }
      ]
    },
    {
      "cell_type": "code",
      "execution_count": 48,
      "metadata": {
        "id": "CDlvA1mh_cPH"
      },
      "outputs": [],
      "source": [
        "model.compile(\n",
        "    loss='categorical_crossentropy',\n",
        "    optimizer=Adam(learning_rate=learningRate),\n",
        "    metrics=['accuracy']\n",
        ")\n",
        "\n",
        "train_loss = []\n",
        "val_loss = []"
      ]
    },
    {
      "cell_type": "code",
      "execution_count": 65,
      "metadata": {
        "colab": {
          "base_uri": "https://localhost:8080/"
        },
        "id": "bpkSKK98_cPL",
        "outputId": "006cd973-851f-4573-ed6e-9884e24ac26e"
      },
      "outputs": [
        {
          "output_type": "stream",
          "name": "stdout",
          "text": [
            "Epoch 1/10\n",
            "7/7 [==============================] - 16s 2s/step - loss: 0.7611 - accuracy: 0.9215 - val_loss: 1.5281 - val_accuracy: 0.7172\n",
            "Epoch 2/10\n",
            "7/7 [==============================] - 16s 2s/step - loss: 0.8111 - accuracy: 0.8914 - val_loss: 1.5197 - val_accuracy: 0.7063\n",
            "Epoch 3/10\n",
            "7/7 [==============================] - 17s 2s/step - loss: 0.8034 - accuracy: 0.8988 - val_loss: 1.4735 - val_accuracy: 0.7281\n",
            "Epoch 4/10\n",
            "7/7 [==============================] - 16s 2s/step - loss: 0.7996 - accuracy: 0.9016 - val_loss: 1.5371 - val_accuracy: 0.7219\n",
            "Epoch 5/10\n",
            "7/7 [==============================] - 16s 2s/step - loss: 0.7977 - accuracy: 0.8926 - val_loss: 1.5172 - val_accuracy: 0.7359\n",
            "Epoch 6/10\n",
            "7/7 [==============================] - 16s 2s/step - loss: 0.8270 - accuracy: 0.8867 - val_loss: 1.5544 - val_accuracy: 0.7047\n",
            "Epoch 7/10\n",
            "7/7 [==============================] - 17s 2s/step - loss: 0.8321 - accuracy: 0.8871 - val_loss: 1.5396 - val_accuracy: 0.6984\n",
            "Epoch 8/10\n",
            "7/7 [==============================] - 16s 2s/step - loss: 0.8338 - accuracy: 0.8813 - val_loss: 1.5883 - val_accuracy: 0.7047\n",
            "Epoch 9/10\n",
            "7/7 [==============================] - 16s 2s/step - loss: 0.8267 - accuracy: 0.8879 - val_loss: 1.6792 - val_accuracy: 0.6812\n",
            "Epoch 10/10\n",
            "7/7 [==============================] - 16s 2s/step - loss: 0.9887 - accuracy: 0.8328 - val_loss: 1.6702 - val_accuracy: 0.6812\n"
          ]
        }
      ],
      "source": [
        "history = model.fit(\n",
        "    x_train, y_train, \n",
        "    validation_data=(x_val, y_val),\n",
        "    epochs=10,\n",
        "    batch_size=batchSize\n",
        ")"
      ]
    },
    {
      "cell_type": "code",
      "execution_count": 66,
      "metadata": {
        "colab": {
          "base_uri": "https://localhost:8080/",
          "height": 449
        },
        "id": "-iECycVF_cPN",
        "outputId": "8188a530-bc22-4e8b-edfe-bfd1dfdb3aaa"
      },
      "outputs": [
        {
          "output_type": "display_data",
          "data": {
            "text/plain": [
              "<Figure size 640x480 with 1 Axes>"
            ],
            "image/png": "[encoded data removed]"
          },
          "metadata": {}
        }
      ],
      "source": [
        "train_loss += history.history['loss']\n",
        "val_loss += history.history['val_loss']\n",
        "\n",
        "# plot the graph\n",
        "plt.plot(train_loss, label='Train loss')\n",
        "plt.plot(val_loss, label='Validation loss')\n",
        "plt.xlabel('Epoch')\n",
        "plt.ylabel('Loss')\n",
        "plt.legend()\n",
        "plt.show()"
      ]
    },
    {
      "cell_type": "code",
      "execution_count": 67,
      "metadata": {
        "colab": {
          "base_uri": "https://localhost:8080/"
        },
        "id": "EhO5zcdy_cPQ",
        "outputId": "1cfc0259-fef0-4731-e91d-32445c350cb2"
      },
      "outputs": [
        {
          "output_type": "stream",
          "name": "stdout",
          "text": [
            "43/43 [==============================] - 4s 93ms/step\n",
            "   Test accuracy = 62.46 %\n",
            "   Weighted F1-score = 0.6239\n",
            "   Average F1-score = 0.6165\n",
            "-------------------------------------------------------\n"
          ]
        }
      ],
      "source": [
        "estimatedLabels = np.argmax(model.predict(test_data),axis=-1)\n",
        "estimatedLabels = estimatedLabels.flatten()\n",
        "\n",
        "accuracy = accuracy_score(test_labels,estimatedLabels)\n",
        "weightedF1 = f1_score(test_labels,estimatedLabels,average='weighted')\n",
        "averageF1 = f1_score(test_labels,estimatedLabels,average='macro')\n",
        "#confMat = confusion_matrix(testingLabels,estimatedLabels,labels=labelsTable.values())\n",
        "allF1Scores = f1_score(test_labels,estimatedLabels,average=None)\n",
        "\n",
        "# Print results\n",
        "print('   Test accuracy = %.2f %%' % (accuracy*100))\n",
        "print('   Weighted F1-score = %.4f' % (weightedF1))\n",
        "print('   Average F1-score = %.4f' % (averageF1))\n",
        "# print('   All F1-scores:')\n",
        "# print(allF1Scores)\n",
        "print('-------------------------------------------------------')"
      ]
    }
  ],
  "metadata": {
    "kernelspec": {
      "display_name": "Python 3",
      "language": "python",
      "name": "python3"
    },
    "language_info": {
      "codemirror_mode": {
        "name": "ipython",
        "version": 3
      },
      "file_extension": ".py",
      "mimetype": "text/x-python",
      "name": "python",
      "nbconvert_exporter": "python",
      "pygments_lexer": "ipython3",
      "version": "3.10.6"
    },
    "orig_nbformat": 4,
    "colab": {
      "provenance": []
    }
  },
  "nbformat": 4,
  "nbformat_minor": 0
}