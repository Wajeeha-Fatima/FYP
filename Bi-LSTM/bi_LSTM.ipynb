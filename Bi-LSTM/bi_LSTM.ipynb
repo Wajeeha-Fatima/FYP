{
  "cells": [
    {
      "cell_type": "code",
      "source": [
        "from google.colab import drive\n",
        "drive.mount('/content/drive');"
      ],
      "metadata": {
        "colab": {
          "base_uri": "https://localhost:8080/"
        },
        "id": "kFk_Wrv6Vwc8",
        "outputId": "5dc6c993-7edb-4058-befa-25ac4b797d8d"
      },
      "execution_count": 2,
      "outputs": [
        {
          "output_type": "stream",
          "name": "stdout",
          "text": [
            "Mounted at /content/drive\n"
          ]
        }
      ]
    },
    {
      "cell_type": "code",
      "execution_count": 13,
      "metadata": {
        "id": "KHNO2uGMVvRy"
      },
      "outputs": [],
      "source": [
        "\"\"\"# Importing Libraries\"\"\"\n",
        "import numpy as np\n",
        "import pandas as pd\n",
        "import matplotlib.pyplot as plt\n",
        "import scipy\n",
        "from scipy.interpolate import interp1d\n",
        "from scipy.stats import kurtosis\n",
        "from scipy.stats import skew\n",
        "from sklearn import preprocessing\n",
        "from sklearn.preprocessing import normalize\n",
        "from scipy.ndimage import zoom\n",
        "from skimage.measure import block_reduce\n",
        "from skimage.transform import resize\n",
        "from sklearn.model_selection import train_test_split\n",
        "import tensorflow as tf\n",
        "from keras.optimizers import Adam\n",
        "from sklearn.metrics import f1_score, accuracy_score, confusion_matrix\n",
        "from tensorflow.keras.optimizers import Adam\n",
        "from tensorflow.keras.models import Sequential\n",
        "from tensorflow.keras.layers import BatchNormalization, Conv2D, MaxPooling2D, Flatten, Dense\n",
        "from tensorflow.keras.utils import to_categorical\n",
        "from keras.layers.core import Reshape\n",
        "from keras.layers import LSTM\n",
        "from keras.layers import Bidirectional"
      ]
    },
    {
      "cell_type": "code",
      "execution_count": 4,
      "metadata": {
        "id": "Ksb6TJFmVvR2"
      },
      "outputs": [],
      "source": [
        "\"\"\"# Loading Data\"\"\"\n",
        "\n",
        "path = \"drive/MyDrive/Cog_DataSets/testing/\"\n",
        "# path = \"drive/MyDrive/Colab Notebooks/CogAge/Datasets/testing/\"\n",
        "test_acc = np.load(path+\"testAccelerometer.npy\")\n",
        "test_grav = np.load(path+\"testGravity.npy\")\n",
        "test_gyro = np.load(path+\"testGyroscope.npy\")\n",
        "test_jinsAcc = np.load(path+\"testJinsAccelerometer.npy\")\n",
        "test_jinsGyro = np.load(path+\"testJinsGyroscope.npy\")\n",
        "test_Label =np.load(path+\"testLabels.npy\") \n",
        "test_linAcc = np.load(path+\"testLinearAcceleration.npy\")\n",
        "test_MsAcc = np.load(path+\"testMSAccelerometer.npy\")\n",
        "test_MsGyro = np.load(path + \"testMSGyroscope.npy\")\n",
        "test_MsMag = np.load(path+\"testMagnetometer.npy\")\n",
        "# test_acc\n",
        "\n",
        "path = \"drive/MyDrive/Cog_DataSets/training/\"\n",
        "# path = \"drive/MyDrive/Colab Notebooks/CogAge/Datasets/training/\"\n",
        "train_acc = np.load(path+\"trainAccelerometer.npy\")\n",
        "train_grav = np.load(path+\"trainGravity.npy\")\n",
        "train_gyro = np.load(path+\"trainGyroscope.npy\")\n",
        "train_jinsAcc = np.load(path+\"trainJinsAccelerometer.npy\")\n",
        "train_jinsGyro = np.load(path+\"trainJinsGyroscope.npy\")\n",
        "train_Label =np.load(path+\"trainLabels.npy\") \n",
        "train_linAcc = np.load(path+\"trainLinearAcceleration.npy\")\n",
        "train_MsAcc = np.load(path+\"trainMSAccelerometer.npy\")\n",
        "train_MsGyro = np.load(path + \"trainMSGyroscope.npy\")\n",
        "train_MsMag = np.load(path+\"trainMagnetometer.npy\")\n",
        "# print(train_Label.shape)"
      ]
    },
    {
      "cell_type": "code",
      "execution_count": 5,
      "metadata": {
        "id": "YR22adtbVvR4"
      },
      "outputs": [],
      "source": [
        "\"\"\"# Reshape and stack Data Before Fitting to Model\"\"\"\n",
        "# changing shape of sensor data to (#,400,3)\n",
        "# downsample\n",
        "train_acc_reshaped = block_reduce(train_acc, block_size=(1, 2, 1), func=np.mean)\n",
        "train_gyro_reshaped = block_reduce(train_gyro, block_size=(1, 2, 1), func=np.mean)\n",
        "train_grav_reshaped = block_reduce(train_grav, block_size=(1, 2, 1), func=np.mean)\n",
        "train_linAcc_reshaped = block_reduce(train_linAcc, block_size=(1, 2, 1), func=np.mean)\n",
        "# upsample\n",
        "train_MsAcc_reshaped = resize(train_MsAcc, (2284, 400, 3), mode='edge')\n",
        "train_MsGyro_reshaped = resize(train_MsGyro, (2284, 400, 3), mode='edge')\n",
        "# upsample\n",
        "train_MsMag_reshaped = np.repeat(train_MsMag, 2, axis=1)\n",
        "train_jinsAcc_reshaped = np.repeat(train_jinsAcc, 5, axis=1)\n",
        "train_jinsGyro_reshaped = np.repeat(train_jinsGyro, 5, axis=1)\n",
        "\n",
        "test_acc_reshaped = block_reduce(test_acc, block_size=(1, 2, 1), func=np.mean)\n",
        "test_gyro_reshaped = block_reduce(test_gyro, block_size=(1, 2, 1), func=np.mean)\n",
        "test_grav_reshaped = block_reduce(test_grav, block_size=(1, 2, 1), func=np.mean)\n",
        "test_linAcc_reshaped = block_reduce(test_linAcc, block_size=(1, 2, 1), func=np.mean)\n",
        "test_MsAcc_reshaped = resize(test_MsAcc, (2288, 400, 3), mode='edge')\n",
        "test_MsGyro_reshaped = resize(test_MsGyro, (2288, 400, 3), mode='edge')\n",
        "test_MsMag_reshaped = np.repeat(test_MsMag, 2, axis=1)\n",
        "test_jinsAcc_reshaped = np.repeat(test_jinsAcc, 5, axis=1)\n",
        "test_jinsGyro_reshaped = np.repeat(test_jinsGyro, 5, axis=1)"
      ]
    },
    {
      "cell_type": "code",
      "execution_count": 6,
      "metadata": {
        "colab": {
          "base_uri": "https://localhost:8080/"
        },
        "id": "4FelGZdiVvR6",
        "outputId": "8fad5ee0-29f6-43e0-e307-071387698426"
      },
      "outputs": [
        {
          "output_type": "stream",
          "name": "stdout",
          "text": [
            "Shape of all sensors after up/down sample...  (4572, 400, 3) (4572, 400, 3) (4572, 400, 3) (4572, 400, 3) (4572, 400, 3) (4572, 400, 3) (4572, 400, 3) (4572, 400, 3) (4572, 400, 3)\n"
          ]
        }
      ],
      "source": [
        "# all data of shape #,400,3\n",
        "# adding all relative data.\n",
        "# Mobile training accelerometer + Mobile testing accelerometer data\n",
        "train_acc_reshaped = np.append(train_acc_reshaped,test_acc_reshaped, axis=0)\n",
        "train_gyro_reshaped = np.append(train_gyro_reshaped,test_gyro_reshaped, axis=0)\n",
        "train_grav_reshaped = np.append(train_grav_reshaped,test_grav_reshaped, axis=0)\n",
        "train_linAcc_reshaped = np.append(train_linAcc_reshaped,test_linAcc_reshaped, axis=0)\n",
        "train_MsAcc_reshaped = np.append(train_MsAcc_reshaped,test_MsAcc_reshaped, axis=0)\n",
        "train_MsGyro_reshaped = np.append(train_MsGyro_reshaped,test_MsGyro_reshaped, axis=0)\n",
        "train_MsMag_reshaped = np.append(train_MsMag_reshaped,test_MsMag_reshaped, axis=0)\n",
        "train_jinsAcc_reshaped = np.append(train_jinsAcc_reshaped,test_jinsAcc_reshaped, axis=0)\n",
        "train_jinsGyro_reshaped = np.append(train_jinsGyro_reshaped,test_jinsGyro_reshaped, axis=0)\n",
        "\n",
        "\n",
        "print(\"Shape of all sensors after up/down sample... \", train_acc_reshaped.shape, train_gyro_reshaped.shape, train_grav_reshaped.shape, train_linAcc_reshaped.shape\n",
        "                       , train_MsAcc_reshaped.shape, train_MsGyro_reshaped.shape, train_MsMag_reshaped.shape,\n",
        "                       train_jinsAcc_reshaped.shape, train_jinsGyro_reshaped.shape)\n",
        "\n",
        "# all data of shape 4572,400,3\n",
        "# 4572 = 2284(training) + 2288(testing)\n",
        "\n",
        "\n",
        "# stack\n",
        "all_data = np.stack([train_acc_reshaped, train_gyro_reshaped, train_grav_reshaped, train_linAcc_reshaped\n",
        "                       , train_MsAcc_reshaped, train_MsGyro_reshaped, train_MsMag_reshaped,\n",
        "                       train_jinsAcc_reshaped, train_jinsGyro_reshaped], axis=-1)\n",
        "\n",
        "all_Label = np.append(train_Label, test_Label, axis=-1)"
      ]
    },
    {
      "cell_type": "code",
      "execution_count": 8,
      "metadata": {
        "colab": {
          "base_uri": "https://localhost:8080/"
        },
        "id": "0-Qr1B4fVvR8",
        "outputId": "a466a022-d24a-435b-825d-6fb056e2f879"
      },
      "outputs": [
        {
          "output_type": "stream",
          "name": "stdout",
          "text": [
            "\n",
            "Shape of training and testin data + labels...\n",
            "\n",
            "(2743, 400, 3, 9) (1829, 400, 3, 9)\n",
            "(2743,) (1829,)\n",
            "Shape of training + validation Data\n",
            "(2194, 400, 3, 9) (2194,)\n",
            "Shape of training + validation Labels\n",
            "(2194, 55) (549, 55)\n"
          ]
        }
      ],
      "source": [
        "# 60% training data + labels\n",
        "train_data = all_data[: int(all_data.shape[0]*0.6)]\n",
        "# 40% testing data + labels\n",
        "test_data = all_data[int(all_data.shape[0]*0.6):]\n",
        "train_labels = all_Label[: int(all_Label.shape[0]*0.6)]\n",
        "test_labels = all_Label[int(all_Label.shape[0]*0.6):]\n",
        "\n",
        "print(\"\\nShape of training and testin data + labels...\\n\")\n",
        "print(train_data.shape, test_data.shape)\n",
        "print(train_labels.shape, test_labels.shape)\n",
        "\n",
        "\n",
        "# Split the data into training and validation sets\n",
        "x_train, x_val, y_train, y_val = train_test_split(train_data, train_labels, test_size=0.2, random_state=42)\n",
        "\n",
        "print(\"Shape of training + validation Data\")\n",
        "print(np.shape(x_train), np.shape(y_train))\n",
        "\n",
        "y_train = to_categorical(y_train, num_classes=55)\n",
        "y_val = to_categorical(y_val, num_classes=55)\n",
        "\n",
        "print(\"Shape of training + validation Labels\")\n",
        "print(np.shape(y_train), np.shape(y_val))"
      ]
    },
    {
      "cell_type": "code",
      "execution_count": 9,
      "metadata": {
        "id": "hpLLiG-rVvR9"
      },
      "outputs": [],
      "source": [
        "# HYPER PARAMTERS\n",
        "\n",
        "# Filter parameters, i.e. about the number of inputs processed by each neuron of the convolutional layer\n",
        "filter1Size = (11,1)\n",
        "filter2Size = (13,1)\n",
        "filter3Size = (13,1)\n",
        "\n",
        "# Downsampling factors of the pooling layers\n",
        "poolingLayer1Factor = (2,1)\n",
        "poolingLayer2Factor = (3,1)\n",
        "poolingLayer3Factor = (2,1)\n",
        "\n",
        "# Number of feature maps processed by each convolutional layer\n",
        "nbFeaturesLayer1 = 50\n",
        "nbFeaturesLayer2 = 40\n",
        "nbFeaturesLayer3 = 30\n",
        "\n",
        "# Activation function of the convolutional layer(s)\n",
        "activationConv = 'relu'\n",
        "\n",
        "# Output dimension of the LSTM\n",
        "outputLSTM = 100\n",
        "\n",
        "# Parameters of the dense layer\n",
        "activationMLP = 'relu'\n",
        "inputMLP = 500\n",
        "\n",
        "# Training parameters\n",
        "batchSize = 400\n",
        "numberOfEpochs = 30\n",
        "learningRate = 0.001\n",
        "\n",
        "input_shape = (400,3,9)\n",
        "nbClasses = 55\n",
        "timeWindow = 400\n",
        "nbSensors = 9\n",
        "\n",
        "#-------------------------------------------------------------------------------------------------------\n",
        "# bidirectionalLSTM: define a batch normalization + bidirectional LSTM DNN\n",
        "#-------------------------------------------------------------------------------------------------------\n",
        "def bidirectionalLSTM(\n",
        "    inputShape,\n",
        "    timeWindow,\n",
        "    nbSensors,\n",
        "    outputLSTM,\n",
        "    inputMLP,\n",
        "    activationMLP,\n",
        "    nbClasses,\n",
        "    withSoftmax=True):\n",
        "\n",
        "    ### Model definition\n",
        "    model = Sequential()\n",
        "    nbFeaturePerSensor = 3\n",
        "\n",
        "    # Batch normalization layer\n",
        "    model.add(BatchNormalization(input_shape=inputShape))\n",
        "    print(model.layers[-1].output_shape)\n",
        "\n",
        "    # Bi-directional LSTM layer\n",
        "    model.add(Reshape((timeWindow,nbSensors*nbFeaturePerSensor)))\n",
        "    model.add(Bidirectional(LSTM(outputLSTM,return_sequences=True),input_shape=(timeWindow,nbSensors)))\n",
        "    \n",
        "    # Dense layer\n",
        "    model.add(Flatten())\n",
        "    model.add(Dense(inputMLP,activation=activationMLP))\n",
        "    \n",
        "    # Softmax layer\n",
        "    if withSoftmax:\n",
        "        model.add(Dense(nbClasses, activation='softmax'))\n",
        "\n",
        "    # Return the model\n",
        "    return model"
      ]
    },
    {
      "cell_type": "code",
      "execution_count": 11,
      "metadata": {
        "colab": {
          "base_uri": "https://localhost:8080/"
        },
        "id": "xdIbRc7KVvR9",
        "outputId": "96654ec9-bf0a-4c53-f192-ead9619dad4c"
      },
      "outputs": [
        {
          "output_type": "stream",
          "name": "stdout",
          "text": [
            "(None, 400, 3, 9)\n"
          ]
        }
      ],
      "source": [
        "model = bidirectionalLSTM(inputShape=input_shape,\n",
        "                              timeWindow=400,\n",
        "                              nbSensors=9,\n",
        "                              outputLSTM=outputLSTM,\n",
        "                              inputMLP=inputMLP,\n",
        "                              activationMLP=activationMLP,\n",
        "                              nbClasses=nbClasses)\n",
        "\n",
        "\n",
        "\n",
        "model.compile(\n",
        "    loss='categorical_crossentropy',\n",
        "    optimizer=Adam(learning_rate=learningRate),\n",
        "    metrics=['accuracy']\n",
        ")\n",
        "\n",
        "train_loss = []\n",
        "val_loss = []"
      ]
    },
    {
      "cell_type": "code",
      "execution_count": 16,
      "metadata": {
        "colab": {
          "base_uri": "https://localhost:8080/"
        },
        "id": "PBY5pchOVvR-",
        "outputId": "3d2053d8-63f1-4146-b4c2-be51c11acfdf"
      },
      "outputs": [
        {
          "output_type": "stream",
          "name": "stdout",
          "text": [
            "Epoch 1/10\n",
            "6/6 [==============================] - 44s 8s/step - loss: 0.0948 - accuracy: 0.9845 - val_loss: 2.1606 - val_accuracy: 0.5537\n",
            "Epoch 2/10\n",
            "6/6 [==============================] - 44s 8s/step - loss: 0.0713 - accuracy: 0.9886 - val_loss: 2.1724 - val_accuracy: 0.5446\n",
            "Epoch 3/10\n",
            "6/6 [==============================] - 42s 7s/step - loss: 0.0529 - accuracy: 0.9913 - val_loss: 2.1376 - val_accuracy: 0.5537\n",
            "Epoch 4/10\n",
            "6/6 [==============================] - 41s 7s/step - loss: 0.0463 - accuracy: 0.9932 - val_loss: 2.0140 - val_accuracy: 0.5811\n",
            "Epoch 5/10\n",
            "6/6 [==============================] - 44s 8s/step - loss: 0.0400 - accuracy: 0.9954 - val_loss: 1.9807 - val_accuracy: 0.5811\n",
            "Epoch 6/10\n",
            "6/6 [==============================] - 44s 8s/step - loss: 0.0364 - accuracy: 0.9964 - val_loss: 1.9805 - val_accuracy: 0.5738\n",
            "Epoch 7/10\n",
            "6/6 [==============================] - 44s 7s/step - loss: 0.0319 - accuracy: 0.9936 - val_loss: 1.9293 - val_accuracy: 0.6066\n",
            "Epoch 8/10\n",
            "6/6 [==============================] - 50s 9s/step - loss: 0.0212 - accuracy: 0.9982 - val_loss: 1.8720 - val_accuracy: 0.6157\n",
            "Epoch 9/10\n",
            "6/6 [==============================] - 42s 7s/step - loss: 0.0156 - accuracy: 0.9991 - val_loss: 1.8025 - val_accuracy: 0.6321\n",
            "Epoch 10/10\n",
            "6/6 [==============================] - 42s 7s/step - loss: 0.0118 - accuracy: 1.0000 - val_loss: 1.7766 - val_accuracy: 0.6393\n"
          ]
        }
      ],
      "source": [
        "history = model.fit(\n",
        "    x_train, y_train,\n",
        "    validation_data=(x_val, y_val),\n",
        "    epochs=10,\n",
        "    batch_size=batchSize\n",
        ")"
      ]
    },
    {
      "cell_type": "code",
      "source": [
        "train_loss += history.history['loss']\n",
        "val_loss += history.history['val_loss']\n",
        "\n",
        "# plot the graph\n",
        "plt.plot(train_loss, label='Train loss')\n",
        "plt.plot(val_loss, label='Validation loss')\n",
        "plt.xlabel('Epoch')\n",
        "plt.ylabel('Loss')\n",
        "plt.legend()\n",
        "plt.show()"
      ],
      "metadata": {
        "colab": {
          "base_uri": "https://localhost:8080/",
          "height": 449
        },
        "id": "UYieFDVoWi31",
        "outputId": "0c7ec45a-ae43-4974-a1cb-c7af936f2aba"
      },
      "execution_count": 17,
      "outputs": [
        {
          "output_type": "display_data",
          "data": {
            "text/plain": [
              "<Figure size 640x480 with 1 Axes>"
            ],
            "image/png": "[encoded data removed]"
          },
          "metadata": {}
        }
      ]
    },
    {
      "cell_type": "code",
      "execution_count": 18,
      "metadata": {
        "colab": {
          "base_uri": "https://localhost:8080/"
        },
        "id": "6xYutZvZVvR_",
        "outputId": "dc82fd75-6360-4edc-ef1d-394225faf8d8"
      },
      "outputs": [
        {
          "output_type": "stream",
          "name": "stdout",
          "text": [
            "58/58 [==============================] - 21s 354ms/step\n",
            "   Test accuracy = 54.78 %\n",
            "   Weighted F1-score = 0.5458\n",
            "   Average F1-score = 0.5441\n",
            "-------------------------------------------------------\n"
          ]
        }
      ],
      "source": [
        "estimatedLabels = np.argmax(model.predict(test_data),axis=-1)\n",
        "estimatedLabels = estimatedLabels.flatten()\n",
        "\n",
        "accuracy = accuracy_score(test_labels,estimatedLabels)\n",
        "weightedF1 = f1_score(test_labels,estimatedLabels,average='weighted')\n",
        "averageF1 = f1_score(test_labels,estimatedLabels,average='macro')\n",
        "#confMat = confusion_matrix(testingLabels,estimatedLabels,labels=labelsTable.values())\n",
        "allF1Scores = f1_score(test_labels,estimatedLabels,average=None)\n",
        "\n",
        "# Print results\n",
        "print('   Test accuracy = %.2f %%' % (accuracy*100))\n",
        "print('   Weighted F1-score = %.4f' % (weightedF1))\n",
        "print('   Average F1-score = %.4f' % (averageF1))\n",
        "# print('   All F1-scores:')\n",
        "# print(allF1Scores)\n",
        "print('-------------------------------------------------------')"
      ]
    }
  ],
  "metadata": {
    "kernelspec": {
      "display_name": "Python 3",
      "language": "python",
      "name": "python3"
    },
    "language_info": {
      "codemirror_mode": {
        "name": "ipython",
        "version": 3
      },
      "file_extension": ".py",
      "mimetype": "text/x-python",
      "name": "python",
      "nbconvert_exporter": "python",
      "pygments_lexer": "ipython3",
      "version": "3.10.6"
    },
    "orig_nbformat": 4,
    "colab": {
      "provenance": []
    }
  },
  "nbformat": 4,
  "nbformat_minor": 0
}