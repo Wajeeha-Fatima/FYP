{
  "cells": [
    {
      "cell_type": "code",
      "source": [
        "from google.colab import drive\n",
        "drive.mount(\"/content/drive\")"
      ],
      "metadata": {
        "colab": {
          "base_uri": "https://localhost:8080/"
        },
        "id": "Mspxk_vVek3I",
        "outputId": "2a1ba597-853e-4633-8367-62e58152ba47"
      },
      "execution_count": 2,
      "outputs": [
        {
          "output_type": "stream",
          "name": "stdout",
          "text": [
            "Mounted at /content/drive\n"
          ]
        }
      ]
    },
    {
      "cell_type": "code",
      "execution_count": 32,
      "metadata": {
        "id": "E_gXZWGNej1D"
      },
      "outputs": [],
      "source": [
        "\"\"\"# Importing Libraries\"\"\"\n",
        "import numpy as np\n",
        "import pandas as pd\n",
        "import matplotlib.pyplot as plt\n",
        "import scipy\n",
        "from scipy.interpolate import interp1d\n",
        "from scipy.stats import kurtosis\n",
        "from scipy.stats import skew\n",
        "from sklearn import preprocessing\n",
        "from sklearn.preprocessing import normalize\n",
        "from scipy.ndimage import zoom\n",
        "from skimage.measure import block_reduce\n",
        "from skimage.transform import resize\n",
        "from sklearn.model_selection import train_test_split\n",
        "import tensorflow as tf\n",
        "from keras.optimizers import Adam\n",
        "from sklearn.metrics import f1_score, accuracy_score, confusion_matrix\n",
        "from tensorflow.keras.optimizers import Adam\n",
        "from tensorflow.keras.models import Sequential\n",
        "from tensorflow.keras.layers import BatchNormalization, Conv2D, MaxPooling2D, Flatten, Dense\n",
        "from tensorflow.keras.utils import to_categorical"
      ]
    },
    {
      "cell_type": "code",
      "execution_count": 4,
      "metadata": {
        "id": "4qk_kpQPej1P"
      },
      "outputs": [],
      "source": [
        "\"\"\"# Loading Data\"\"\"\n",
        "\n",
        "path = \"drive/MyDrive/Cog_DataSets/testing/\"\n",
        "# path = \"drive/MyDrive/Colab Notebooks/CogAge/Datasets/testing/\"\n",
        "test_acc = np.load(path+\"testAccelerometer.npy\")\n",
        "test_grav = np.load(path+\"testGravity.npy\")\n",
        "test_gyro = np.load(path+\"testGyroscope.npy\")\n",
        "test_jinsAcc = np.load(path+\"testJinsAccelerometer.npy\")\n",
        "test_jinsGyro = np.load(path+\"testJinsGyroscope.npy\")\n",
        "test_Label =np.load(path+\"testLabels.npy\") \n",
        "test_linAcc = np.load(path+\"testLinearAcceleration.npy\")\n",
        "test_MsAcc = np.load(path+\"testMSAccelerometer.npy\")\n",
        "test_MsGyro = np.load(path + \"testMSGyroscope.npy\")\n",
        "test_MsMag = np.load(path+\"testMagnetometer.npy\")\n",
        "# test_acc\n",
        "\n",
        "path = \"drive/MyDrive/Cog_DataSets/training/\"\n",
        "# path = \"drive/MyDrive/Colab Notebooks/CogAge/Datasets/training/\"\n",
        "train_acc = np.load(path+\"trainAccelerometer.npy\")\n",
        "train_grav = np.load(path+\"trainGravity.npy\")\n",
        "train_gyro = np.load(path+\"trainGyroscope.npy\")\n",
        "train_jinsAcc = np.load(path+\"trainJinsAccelerometer.npy\")\n",
        "train_jinsGyro = np.load(path+\"trainJinsGyroscope.npy\")\n",
        "train_Label =np.load(path+\"trainLabels.npy\") \n",
        "train_linAcc = np.load(path+\"trainLinearAcceleration.npy\")\n",
        "train_MsAcc = np.load(path+\"trainMSAccelerometer.npy\")\n",
        "train_MsGyro = np.load(path + \"trainMSGyroscope.npy\")\n",
        "train_MsMag = np.load(path+\"trainMagnetometer.npy\")\n",
        "# print(train_Label.shape)"
      ]
    },
    {
      "cell_type": "code",
      "execution_count": 5,
      "metadata": {
        "id": "KvA7onE9ej1V"
      },
      "outputs": [],
      "source": [
        "\"\"\"# Reshape and stack Data Before Fitting to Model\"\"\"\n",
        "# changing shape of sensor data to (#,400,3)\n",
        "# downsample\n",
        "train_acc_reshaped = block_reduce(train_acc, block_size=(1, 2, 1), func=np.mean)\n",
        "train_gyro_reshaped = block_reduce(train_gyro, block_size=(1, 2, 1), func=np.mean)\n",
        "train_grav_reshaped = block_reduce(train_grav, block_size=(1, 2, 1), func=np.mean)\n",
        "train_linAcc_reshaped = block_reduce(train_linAcc, block_size=(1, 2, 1), func=np.mean)\n",
        "# upsample\n",
        "train_MsAcc_reshaped = resize(train_MsAcc, (2284, 400, 3), mode='edge')\n",
        "train_MsGyro_reshaped = resize(train_MsGyro, (2284, 400, 3), mode='edge')\n",
        "# upsample\n",
        "train_MsMag_reshaped = np.repeat(train_MsMag, 2, axis=1)\n",
        "train_jinsAcc_reshaped = np.repeat(train_jinsAcc, 5, axis=1)\n",
        "train_jinsGyro_reshaped = np.repeat(train_jinsGyro, 5, axis=1)\n",
        "\n",
        "test_acc_reshaped = block_reduce(test_acc, block_size=(1, 2, 1), func=np.mean)\n",
        "test_gyro_reshaped = block_reduce(test_gyro, block_size=(1, 2, 1), func=np.mean)\n",
        "test_grav_reshaped = block_reduce(test_grav, block_size=(1, 2, 1), func=np.mean)\n",
        "test_linAcc_reshaped = block_reduce(test_linAcc, block_size=(1, 2, 1), func=np.mean)\n",
        "test_MsAcc_reshaped = resize(test_MsAcc, (2288, 400, 3), mode='edge')\n",
        "test_MsGyro_reshaped = resize(test_MsGyro, (2288, 400, 3), mode='edge')\n",
        "test_MsMag_reshaped = np.repeat(test_MsMag, 2, axis=1)\n",
        "test_jinsAcc_reshaped = np.repeat(test_jinsAcc, 5, axis=1)\n",
        "test_jinsGyro_reshaped = np.repeat(test_jinsGyro, 5, axis=1)"
      ]
    },
    {
      "cell_type": "code",
      "execution_count": 6,
      "metadata": {
        "colab": {
          "base_uri": "https://localhost:8080/"
        },
        "id": "ZWb0HXa3ej1a",
        "outputId": "5e71e3db-d688-44da-de51-a9eb0894abb1"
      },
      "outputs": [
        {
          "output_type": "stream",
          "name": "stdout",
          "text": [
            "Shape of all sensors after up/down sample...  (4572, 400, 3) (4572, 400, 3) (4572, 400, 3) (4572, 400, 3) (4572, 400, 3) (4572, 400, 3) (4572, 400, 3) (4572, 400, 3) (4572, 400, 3)\n"
          ]
        }
      ],
      "source": [
        "# all data of shape #,400,3\n",
        "# adding all relative data.\n",
        "# Mobile training accelerometer + Mobile testing accelerometer data\n",
        "train_acc_reshaped = np.append(train_acc_reshaped,test_acc_reshaped, axis=0)\n",
        "train_gyro_reshaped = np.append(train_gyro_reshaped,test_gyro_reshaped, axis=0)\n",
        "train_grav_reshaped = np.append(train_grav_reshaped,test_grav_reshaped, axis=0)\n",
        "train_linAcc_reshaped = np.append(train_linAcc_reshaped,test_linAcc_reshaped, axis=0)\n",
        "train_MsAcc_reshaped = np.append(train_MsAcc_reshaped,test_MsAcc_reshaped, axis=0)\n",
        "train_MsGyro_reshaped = np.append(train_MsGyro_reshaped,test_MsGyro_reshaped, axis=0)\n",
        "train_MsMag_reshaped = np.append(train_MsMag_reshaped,test_MsMag_reshaped, axis=0)\n",
        "train_jinsAcc_reshaped = np.append(train_jinsAcc_reshaped,test_jinsAcc_reshaped, axis=0)\n",
        "train_jinsGyro_reshaped = np.append(train_jinsGyro_reshaped,test_jinsGyro_reshaped, axis=0)\n",
        "\n",
        "\n",
        "print(\"Shape of all sensors after up/down sample... \", train_acc_reshaped.shape, train_gyro_reshaped.shape, train_grav_reshaped.shape, train_linAcc_reshaped.shape\n",
        "                       , train_MsAcc_reshaped.shape, train_MsGyro_reshaped.shape, train_MsMag_reshaped.shape,\n",
        "                       train_jinsAcc_reshaped.shape, train_jinsGyro_reshaped.shape)\n",
        "\n",
        "# all data of shape 4572,400,3\n",
        "# 4572 = 2284(training) + 2288(testing)\n",
        "\n",
        "\n",
        "# stack\n",
        "all_data = np.stack([train_acc_reshaped, train_gyro_reshaped, train_grav_reshaped, train_linAcc_reshaped\n",
        "                       , train_MsAcc_reshaped, train_MsGyro_reshaped, train_MsMag_reshaped,\n",
        "                       train_jinsAcc_reshaped, train_jinsGyro_reshaped], axis=-1)\n",
        "\n",
        "all_Label = np.append(train_Label, test_Label, axis=-1)"
      ]
    },
    {
      "cell_type": "code",
      "execution_count": 7,
      "metadata": {
        "colab": {
          "base_uri": "https://localhost:8080/"
        },
        "id": "lsPCj5krej1f",
        "outputId": "17806316-3ed7-40a4-cf7f-18fdbdb9a60c"
      },
      "outputs": [
        {
          "output_type": "stream",
          "name": "stdout",
          "text": [
            "\n",
            "Shape of training and testin data + labels...\n",
            "\n",
            "(2743, 400, 3, 9) (1829, 400, 3, 9)\n",
            "(2743,) (1829,)\n"
          ]
        }
      ],
      "source": [
        "# 70% training data + labels\n",
        "train_data = all_data[: int(all_data.shape[0]*0.6)]\n",
        "# 30% testing data + labels\n",
        "test_data = all_data[int(all_data.shape[0]*0.6):]\n",
        "train_labels = all_Label[: int(all_Label.shape[0]*0.6)]\n",
        "test_labels = all_Label[int(all_Label.shape[0]*0.6):]\n",
        "\n",
        "print(\"\\nShape of training and testin data + labels...\\n\")\n",
        "print(train_data.shape, test_data.shape)\n",
        "print(train_labels.shape, test_labels.shape)"
      ]
    },
    {
      "cell_type": "code",
      "execution_count": 8,
      "metadata": {
        "colab": {
          "base_uri": "https://localhost:8080/"
        },
        "id": "FgmrMYt1ej1h",
        "outputId": "2dc40f9f-7f0e-4f5c-c644-eeeb824258ca"
      },
      "outputs": [
        {
          "output_type": "stream",
          "name": "stdout",
          "text": [
            "Shape of training + validation Data\n",
            "(2194, 400, 3, 9) (2194,)\n",
            "Shape of training + validation Labels\n",
            "(2194, 55) (549, 55)\n"
          ]
        }
      ],
      "source": [
        "# Split the data into training and validation sets\n",
        "x_train, x_val, y_train, y_val = train_test_split(train_data, train_labels, test_size=0.2, random_state=42)\n",
        "\n",
        "print(\"Shape of training + validation Data\")\n",
        "print(np.shape(x_train), np.shape(y_train))\n",
        "\n",
        "y_train = to_categorical(y_train, num_classes=55)\n",
        "y_val = to_categorical(y_val, num_classes=55)\n",
        "\n",
        "print(\"Shape of training + validation Labels\")\n",
        "print(np.shape(y_train), np.shape(y_val))"
      ]
    },
    {
      "cell_type": "code",
      "execution_count": 34,
      "metadata": {
        "id": "3g7NzOmVej1k"
      },
      "outputs": [],
      "source": [
        "# HYPER PARAMTERS\n",
        "\n",
        "# Activation function of the convolutional layer(s)\n",
        "activationConv = 'relu'\n",
        "\n",
        "# Parameters of the dense layer\n",
        "activationMLP = 'relu'\n",
        "inputMLP = 2500\n",
        "\n",
        "# Training parameters\n",
        "batchSize = 400\n",
        "numberOfEpochs = 30\n",
        "learningRate = 0.001\n",
        "\n",
        "input_shape = (400,3,9)\n",
        "nbClasses = 55"
      ]
    },
    {
      "cell_type": "code",
      "execution_count": 44,
      "metadata": {
        "id": "A_z2c9Dvej1m"
      },
      "outputs": [],
      "source": [
        "from tensorflow.keras.regularizers import l2\n",
        "\n",
        "#-------------------------------------------------------------------------------------------------------\n",
        "# normMlp1: define a batch normalization + one hidden layer MLP\n",
        "#-------------------------------------------------------------------------------------------------------\n",
        "def normMlp1(\n",
        "    inputShape,\n",
        "    inputMLP,\n",
        "    activationMLP,\n",
        "    nbClasses,\n",
        "    withSoftmax=True):\n",
        "\n",
        "    model = Sequential()\n",
        "\n",
        "    model.add(BatchNormalization(input_shape=inputShape))\n",
        "\n",
        "    model.add(Flatten())\n",
        "    model.add(Dense(inputMLP, activation=activationMLP, kernel_regularizer=l2(0.01)))\n",
        "    model.add(Dense(inputMLP, activation=activationMLP, kernel_regularizer=l2(0.01)))\n",
        "    #model.add(Dropout(0.5))\n",
        "\n",
        "    # Softmax layer\n",
        "    if withSoftmax:\n",
        "        model.add(Dense(nbClasses, activation='softmax'))\n",
        "\n",
        "    # Return the model\n",
        "    return model"
      ]
    },
    {
      "cell_type": "code",
      "execution_count": 45,
      "metadata": {
        "id": "2j9JnHzyej1o"
      },
      "outputs": [],
      "source": [
        "model = normMlp1(inputShape=input_shape,\n",
        "                 inputMLP=inputMLP,\n",
        "                 activationMLP=activationMLP,\n",
        "                 nbClasses=nbClasses)\n",
        "\n",
        "\n",
        "model.compile(\n",
        "    loss='categorical_crossentropy',\n",
        "    optimizer=Adam(learning_rate=learningRate),\n",
        "    metrics=['accuracy']\n",
        ")\n",
        "\n",
        "train_loss = []\n",
        "val_loss = []"
      ]
    },
    {
      "cell_type": "code",
      "source": [
        "model.summary()"
      ],
      "metadata": {
        "colab": {
          "base_uri": "https://localhost:8080/"
        },
        "id": "GMHQnLyYfX7J",
        "outputId": "14b990da-27d7-4dae-c097-712ca51898e8"
      },
      "execution_count": 46,
      "outputs": [
        {
          "output_type": "stream",
          "name": "stdout",
          "text": [
            "Model: \"sequential_6\"\n",
            "_________________________________________________________________\n",
            " Layer (type)                Output Shape              Param #   \n",
            "=================================================================\n",
            " batch_normalization_6 (Batc  (None, 400, 3, 9)        36        \n",
            " hNormalization)                                                 \n",
            "                                                                 \n",
            " flatten_6 (Flatten)         (None, 10800)             0         \n",
            "                                                                 \n",
            " dense_13 (Dense)            (None, 2500)              27002500  \n",
            "                                                                 \n",
            " dense_14 (Dense)            (None, 2500)              6252500   \n",
            "                                                                 \n",
            " dense_15 (Dense)            (None, 55)                137555    \n",
            "                                                                 \n",
            "=================================================================\n",
            "Total params: 33,392,591\n",
            "Trainable params: 33,392,573\n",
            "Non-trainable params: 18\n",
            "_________________________________________________________________\n"
          ]
        }
      ]
    },
    {
      "cell_type": "code",
      "execution_count": 53,
      "metadata": {
        "colab": {
          "base_uri": "https://localhost:8080/"
        },
        "id": "0u6gPQTpej1r",
        "outputId": "d40d9dd6-4caa-474a-d2e0-194803cba67f"
      },
      "outputs": [
        {
          "output_type": "stream",
          "name": "stdout",
          "text": [
            "Epoch 1/30\n",
            "6/6 [==============================] - 9s 2s/step - loss: 1.0329 - accuracy: 0.9850 - val_loss: 2.1162 - val_accuracy: 0.6812\n",
            "Epoch 2/30\n",
            "6/6 [==============================] - 8s 1s/step - loss: 1.0142 - accuracy: 0.9809 - val_loss: 2.1007 - val_accuracy: 0.7049\n",
            "Epoch 3/30\n",
            "6/6 [==============================] - 9s 1s/step - loss: 0.9935 - accuracy: 0.9840 - val_loss: 2.0307 - val_accuracy: 0.7067\n",
            "Epoch 4/30\n",
            "6/6 [==============================] - 9s 2s/step - loss: 0.9924 - accuracy: 0.9731 - val_loss: 1.9945 - val_accuracy: 0.6940\n",
            "Epoch 5/30\n",
            "6/6 [==============================] - 8s 1s/step - loss: 0.9622 - accuracy: 0.9790 - val_loss: 2.0077 - val_accuracy: 0.6995\n",
            "Epoch 6/30\n",
            "6/6 [==============================] - 9s 1s/step - loss: 0.9488 - accuracy: 0.9772 - val_loss: 1.9659 - val_accuracy: 0.6976\n",
            "Epoch 7/30\n",
            "6/6 [==============================] - 9s 2s/step - loss: 0.9227 - accuracy: 0.9781 - val_loss: 1.9547 - val_accuracy: 0.6995\n",
            "Epoch 8/30\n",
            "6/6 [==============================] - 8s 1s/step - loss: 0.9081 - accuracy: 0.9831 - val_loss: 1.8846 - val_accuracy: 0.7213\n",
            "Epoch 9/30\n",
            "6/6 [==============================] - 9s 1s/step - loss: 0.9141 - accuracy: 0.9717 - val_loss: 2.0224 - val_accuracy: 0.6539\n",
            "Epoch 10/30\n",
            "6/6 [==============================] - 9s 2s/step - loss: 0.9152 - accuracy: 0.9708 - val_loss: 1.9321 - val_accuracy: 0.7067\n",
            "Epoch 11/30\n",
            "6/6 [==============================] - 8s 1s/step - loss: 0.9125 - accuracy: 0.9736 - val_loss: 2.0905 - val_accuracy: 0.6576\n",
            "Epoch 12/30\n",
            "6/6 [==============================] - 10s 2s/step - loss: 0.9333 - accuracy: 0.9686 - val_loss: 1.9635 - val_accuracy: 0.7177\n",
            "Epoch 13/30\n",
            "6/6 [==============================] - 9s 2s/step - loss: 0.9310 - accuracy: 0.9672 - val_loss: 1.9941 - val_accuracy: 0.6922\n",
            "Epoch 14/30\n",
            "6/6 [==============================] - 8s 1s/step - loss: 0.9274 - accuracy: 0.9717 - val_loss: 1.9342 - val_accuracy: 0.7122\n",
            "Epoch 15/30\n",
            "6/6 [==============================] - 9s 1s/step - loss: 0.8979 - accuracy: 0.9654 - val_loss: 1.9945 - val_accuracy: 0.7086\n",
            "Epoch 16/30\n",
            "6/6 [==============================] - 9s 2s/step - loss: 0.9178 - accuracy: 0.9631 - val_loss: 2.0330 - val_accuracy: 0.6885\n",
            "Epoch 17/30\n",
            "6/6 [==============================] - 8s 1s/step - loss: 0.9196 - accuracy: 0.9699 - val_loss: 1.9914 - val_accuracy: 0.7049\n",
            "Epoch 18/30\n",
            "6/6 [==============================] - 9s 1s/step - loss: 0.8989 - accuracy: 0.9722 - val_loss: 1.9532 - val_accuracy: 0.6995\n",
            "Epoch 19/30\n",
            "6/6 [==============================] - 9s 2s/step - loss: 0.8678 - accuracy: 0.9717 - val_loss: 1.9311 - val_accuracy: 0.7031\n",
            "Epoch 20/30\n",
            "6/6 [==============================] - 8s 1s/step - loss: 0.8218 - accuracy: 0.9786 - val_loss: 1.8567 - val_accuracy: 0.6976\n",
            "Epoch 21/30\n",
            "6/6 [==============================] - 9s 1s/step - loss: 0.7836 - accuracy: 0.9831 - val_loss: 1.8370 - val_accuracy: 0.7140\n",
            "Epoch 22/30\n",
            "6/6 [==============================] - 9s 2s/step - loss: 0.7661 - accuracy: 0.9868 - val_loss: 1.7920 - val_accuracy: 0.7104\n",
            "Epoch 23/30\n",
            "6/6 [==============================] - 8s 1s/step - loss: 0.7524 - accuracy: 0.9818 - val_loss: 1.7777 - val_accuracy: 0.7195\n",
            "Epoch 24/30\n",
            "6/6 [==============================] - 9s 1s/step - loss: 0.7304 - accuracy: 0.9836 - val_loss: 1.7722 - val_accuracy: 0.7177\n",
            "Epoch 25/30\n",
            "6/6 [==============================] - 9s 2s/step - loss: 0.7123 - accuracy: 0.9831 - val_loss: 1.8403 - val_accuracy: 0.6995\n",
            "Epoch 26/30\n",
            "6/6 [==============================] - 8s 1s/step - loss: 0.7408 - accuracy: 0.9649 - val_loss: 1.9160 - val_accuracy: 0.6630\n",
            "Epoch 27/30\n",
            "6/6 [==============================] - 9s 1s/step - loss: 0.7510 - accuracy: 0.9704 - val_loss: 2.0331 - val_accuracy: 0.6703\n",
            "Epoch 28/30\n",
            "6/6 [==============================] - 9s 2s/step - loss: 0.7785 - accuracy: 0.9626 - val_loss: 1.8724 - val_accuracy: 0.6976\n",
            "Epoch 29/30\n",
            "6/6 [==============================] - 8s 1s/step - loss: 0.7646 - accuracy: 0.9727 - val_loss: 1.8833 - val_accuracy: 0.6958\n",
            "Epoch 30/30\n",
            "6/6 [==============================] - 9s 1s/step - loss: 0.7453 - accuracy: 0.9827 - val_loss: 1.9789 - val_accuracy: 0.6776\n"
          ]
        }
      ],
      "source": [
        "history = model.fit(\n",
        "    x_train, y_train,\n",
        "    validation_data=(x_val, y_val),\n",
        "    epochs=numberOfEpochs,\n",
        "    batch_size=batchSize\n",
        ")"
      ]
    },
    {
      "cell_type": "code",
      "source": [
        "train_loss += history.history['loss']\n",
        "val_loss += history.history['val_loss']\n",
        "\n",
        "# plot the graph\n",
        "plt.plot(train_loss, label='Train loss')\n",
        "plt.plot(val_loss, label='Validation loss')\n",
        "plt.xlabel('Epoch')\n",
        "plt.ylabel('Loss')\n",
        "plt.legend()\n",
        "plt.show()"
      ],
      "metadata": {
        "colab": {
          "base_uri": "https://localhost:8080/",
          "height": 449
        },
        "id": "E118HNc0kNgQ",
        "outputId": "af8ce90e-7291-4274-8517-c5e60a0a2d41"
      },
      "execution_count": 54,
      "outputs": [
        {
          "output_type": "display_data",
          "data": {
            "text/plain": [
              "<Figure size 640x480 with 1 Axes>"
            ],
            "image/png": "[encoded data removed]"
          },
          "metadata": {}
        }
      ]
    },
    {
      "cell_type": "code",
      "execution_count": 55,
      "metadata": {
        "colab": {
          "base_uri": "https://localhost:8080/"
        },
        "id": "-1CJz_QBej1t",
        "outputId": "6ef4a732-0054-4d82-c3f3-05cee3e134ea"
      },
      "outputs": [
        {
          "output_type": "stream",
          "name": "stdout",
          "text": [
            "58/58 [==============================] - 2s 40ms/step\n",
            "   Test accuracy = 58.23 %\n",
            "   Weighted F1-score = 0.5787\n",
            "   Average F1-score = 0.5783\n",
            "-------------------------------------------------------\n"
          ]
        }
      ],
      "source": [
        "estimatedLabels = np.argmax(model.predict(test_data),axis=-1)\n",
        "estimatedLabels = estimatedLabels.flatten()\n",
        "\n",
        "accuracy = accuracy_score(test_labels,estimatedLabels)\n",
        "weightedF1 = f1_score(test_labels,estimatedLabels,average='weighted')\n",
        "averageF1 = f1_score(test_labels,estimatedLabels,average='macro')\n",
        "#confMat = confusion_matrix(testingLabels,estimatedLabels,labels=labelsTable.values())\n",
        "allF1Scores = f1_score(test_labels,estimatedLabels,average=None)\n",
        "\n",
        "# Print results\n",
        "print('   Test accuracy = %.2f %%' % (accuracy*100))\n",
        "print('   Weighted F1-score = %.4f' % (weightedF1))\n",
        "print('   Average F1-score = %.4f' % (averageF1))\n",
        "# print('   All F1-scores:')\n",
        "# print(allF1Scores)\n",
        "print('-------------------------------------------------------')"
      ]
    }
  ],
  "metadata": {
    "kernelspec": {
      "display_name": "Python 3",
      "language": "python",
      "name": "python3"
    },
    "language_info": {
      "codemirror_mode": {
        "name": "ipython",
        "version": 3
      },
      "file_extension": ".py",
      "mimetype": "text/x-python",
      "name": "python",
      "nbconvert_exporter": "python",
      "pygments_lexer": "ipython3",
      "version": "3.10.6"
    },
    "orig_nbformat": 4,
    "colab": {
      "provenance": []
    }
  },
  "nbformat": 4,
  "nbformat_minor": 0
}