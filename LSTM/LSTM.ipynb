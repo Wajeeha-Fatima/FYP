{
  "cells": [
    {
      "cell_type": "code",
      "execution_count": null,
      "metadata": {
        "id": "sXB1Vi23_QgR"
      },
      "outputs": [],
      "source": [
        "# Load the TensorBoard notebook extension.\n",
        "%load_ext tensorboard"
      ]
    },
    {
      "cell_type": "code",
      "execution_count": null,
      "metadata": {
        "id": "ruVxFrvH_QgY"
      },
      "outputs": [],
      "source": [
        "from datetime import datetime\n",
        "from packaging import version"
      ]
    },
    {
      "cell_type": "code",
      "source": [
        "from google.colab import drive\n",
        "drive.mount('/content/drive')"
      ],
      "metadata": {
        "colab": {
          "base_uri": "https://localhost:8080/"
        },
        "id": "SucIVKVj_W_R",
        "outputId": "0923fae5-720d-4d93-c64e-35ab94ecf860"
      },
      "execution_count": null,
      "outputs": [
        {
          "output_type": "stream",
          "name": "stdout",
          "text": [
            "Mounted at /content/drive\n"
          ]
        }
      ]
    },
    {
      "cell_type": "code",
      "execution_count": null,
      "metadata": {
        "id": "66SZ3CyY_Qgb"
      },
      "outputs": [],
      "source": [
        "\"\"\"# Importing Libraries\"\"\"\n",
        "import numpy as np\n",
        "import pandas as pd\n",
        "import matplotlib.pyplot as plt\n",
        "import scipy\n",
        "from scipy.interpolate import interp1d\n",
        "from scipy.stats import kurtosis\n",
        "from scipy.stats import skew\n",
        "from sklearn import preprocessing\n",
        "from sklearn.preprocessing import normalize\n",
        "from scipy.ndimage import zoom\n",
        "from skimage.measure import block_reduce\n",
        "from skimage.transform import resize\n",
        "from sklearn.model_selection import train_test_split\n",
        "import tensorflow as tf\n",
        "from keras.optimizers import Adam\n",
        "from sklearn.metrics import f1_score, accuracy_score, confusion_matrix\n",
        "from tensorflow.keras.optimizers import Adam\n",
        "from tensorflow.keras.models import Sequential\n",
        "from tensorflow.keras.layers import BatchNormalization, Dense, Dropout\n",
        "from tensorflow.keras.utils import to_categorical\n",
        "from keras.layers.core import Reshape\n",
        "from keras.layers import LSTM\n",
        "from keras import regularizers"
      ]
    },
    {
      "cell_type": "code",
      "execution_count": null,
      "metadata": {
        "id": "qQHB2LKS_Qgf",
        "outputId": "f8d4ab57-f2ff-40fe-e66a-ac44a65bdee5"
      },
      "outputs": [
        {
          "data": {
            "text/plain": [
              "'2.12.1'"
            ]
          },
          "execution_count": 4,
          "metadata": {},
          "output_type": "execute_result"
        }
      ],
      "source": [
        "import tensorboard\n",
        "tensorboard.__version__\n"
      ]
    },
    {
      "cell_type": "code",
      "execution_count": null,
      "metadata": {
        "id": "WKMiwdPP_Qgi",
        "outputId": "7a53da96-036c-4567-e9f3-76f438e0ee20"
      },
      "outputs": [
        {
          "ename": "SyntaxError",
          "evalue": "invalid syntax (335981479.py, line 2)",
          "output_type": "error",
          "traceback": [
            "\u001b[0;36m  Cell \u001b[0;32mIn[11], line 2\u001b[0;36m\u001b[0m\n\u001b[0;31m    rm -rf ./logs/\u001b[0m\n\u001b[0m            ^\u001b[0m\n\u001b[0;31mSyntaxError\u001b[0m\u001b[0;31m:\u001b[0m invalid syntax\n"
          ]
        }
      ],
      "source": [
        "# Clear any logs from previous runs\n",
        "rm -rf ./logs/"
      ]
    },
    {
      "cell_type": "code",
      "execution_count": null,
      "metadata": {
        "id": "Hunzu2Jx_Qgj"
      },
      "outputs": [],
      "source": [
        "\"\"\"# Loading Data\"\"\"\n",
        "\n",
        "path = \"drive/MyDrive/Cog_DataSets/testing/\"\n",
        "# path = \"drive/MyDrive/Colab Notebooks/CogAge/Datasets/testing/\"\n",
        "test_acc = np.load(path+\"testAccelerometer.npy\")\n",
        "test_grav = np.load(path+\"testGravity.npy\")\n",
        "test_gyro = np.load(path+\"testGyroscope.npy\")\n",
        "test_jinsAcc = np.load(path+\"testJinsAccelerometer.npy\")\n",
        "test_jinsGyro = np.load(path+\"testJinsGyroscope.npy\")\n",
        "test_Label =np.load(path+\"testLabels.npy\") \n",
        "test_linAcc = np.load(path+\"testLinearAcceleration.npy\")\n",
        "test_MsAcc = np.load(path+\"testMSAccelerometer.npy\")\n",
        "test_MsGyro = np.load(path + \"testMSGyroscope.npy\")\n",
        "test_MsMag = np.load(path+\"testMagnetometer.npy\")\n",
        "# test_acc\n",
        "\n",
        "path = \"drive/MyDrive/Cog_DataSets/training/\"\n",
        "# path = \"drive/MyDrive/Colab Notebooks/CogAge/Datasets/training/\"\n",
        "train_acc = np.load(path+\"trainAccelerometer.npy\")\n",
        "train_grav = np.load(path+\"trainGravity.npy\")\n",
        "train_gyro = np.load(path+\"trainGyroscope.npy\")\n",
        "train_jinsAcc = np.load(path+\"trainJinsAccelerometer.npy\")\n",
        "train_jinsGyro = np.load(path+\"trainJinsGyroscope.npy\")\n",
        "train_Label =np.load(path+\"trainLabels.npy\") \n",
        "train_linAcc = np.load(path+\"trainLinearAcceleration.npy\")\n",
        "train_MsAcc = np.load(path+\"trainMSAccelerometer.npy\")\n",
        "train_MsGyro = np.load(path + \"trainMSGyroscope.npy\")\n",
        "train_MsMag = np.load(path+\"trainMagnetometer.npy\")\n",
        "# print(train_Label.shape)"
      ]
    },
    {
      "cell_type": "code",
      "execution_count": null,
      "metadata": {
        "colab": {
          "base_uri": "https://localhost:8080/",
          "height": 468
        },
        "id": "oSHUTACH_Qgn",
        "outputId": "72e90cf3-939a-4ba7-c6fb-e338c0fe96a7"
      },
      "outputs": [
        {
          "output_type": "display_data",
          "data": {
            "text/plain": [
              "<Figure size 1500x500 with 1 Axes>"
            ],
            "image/png": "[encoded data removed]"
          },
          "metadata": {}
        }
      ],
      "source": [
        "fig, axs = plt.subplots(1, 1, figsize=(15, 5))\n",
        "axs.plot(train_acc[100][:])\n",
        "plt.legend(['x-axis', 'y-axis', 'z-axis'], loc=\"upper left\")\n",
        "plt.title(train_Label[100])\n",
        "# axs[1].plot(train_MsAcc[0][:])\n",
        "# plt.legend(['x-axis', 'y-axis', 'z-axis'], loc=\"upper left\")\n",
        "# axs[2].plot(train_jinsAcc[0][:])\n",
        "# plt.legend(['x-axis', 'y-axis', 'z-axis'], loc=\"upper left\")\n",
        "plt.show()"
      ]
    },
    {
      "cell_type": "code",
      "execution_count": null,
      "metadata": {
        "id": "JTvytVRn_Qgp"
      },
      "outputs": [],
      "source": [
        "\"\"\"# Reshape and stack Data Before Fitting to Model\"\"\"\n",
        "# changing shape of sensor data to (#,400,3)\n",
        "# downsample\n",
        "train_acc_reshaped = block_reduce(train_acc, block_size=(1, 2, 1), func=np.mean)\n",
        "train_gyro_reshaped = block_reduce(train_gyro, block_size=(1, 2, 1), func=np.mean)\n",
        "train_grav_reshaped = block_reduce(train_grav, block_size=(1, 2, 1), func=np.mean)\n",
        "train_linAcc_reshaped = block_reduce(train_linAcc, block_size=(1, 2, 1), func=np.mean)\n",
        "# upsample\n",
        "train_MsAcc_reshaped = resize(train_MsAcc, (2284, 400, 3), mode='edge')\n",
        "train_MsGyro_reshaped = resize(train_MsGyro, (2284, 400, 3), mode='edge')\n",
        "# upsample\n",
        "train_MsMag_reshaped = np.repeat(train_MsMag, 2, axis=1)\n",
        "train_jinsAcc_reshaped = np.repeat(train_jinsAcc, 5, axis=1)\n",
        "train_jinsGyro_reshaped = np.repeat(train_jinsGyro, 5, axis=1)\n",
        "\n",
        "test_acc_reshaped = block_reduce(test_acc, block_size=(1, 2, 1), func=np.mean)\n",
        "test_gyro_reshaped = block_reduce(test_gyro, block_size=(1, 2, 1), func=np.mean)\n",
        "test_grav_reshaped = block_reduce(test_grav, block_size=(1, 2, 1), func=np.mean)\n",
        "test_linAcc_reshaped = block_reduce(test_linAcc, block_size=(1, 2, 1), func=np.mean)\n",
        "test_MsAcc_reshaped = resize(test_MsAcc, (2288, 400, 3), mode='edge')\n",
        "test_MsGyro_reshaped = resize(test_MsGyro, (2288, 400, 3), mode='edge')\n",
        "test_MsMag_reshaped = np.repeat(test_MsMag, 2, axis=1)\n",
        "test_jinsAcc_reshaped = np.repeat(test_jinsAcc, 5, axis=1)\n",
        "test_jinsGyro_reshaped = np.repeat(test_jinsGyro, 5, axis=1)"
      ]
    },
    {
      "cell_type": "code",
      "execution_count": null,
      "metadata": {
        "colab": {
          "base_uri": "https://localhost:8080/"
        },
        "id": "-41ceMyn_Qgr",
        "outputId": "7a0264eb-1b81-41ae-c438-0d84a437861b"
      },
      "outputs": [
        {
          "output_type": "stream",
          "name": "stdout",
          "text": [
            "(4572, 400, 3, 9)\n"
          ]
        }
      ],
      "source": [
        "# all data of shape #,400,3\n",
        "# adding all relative data.\n",
        "# Mobile training accelerometer + Mobile testing accelerometer data\n",
        "train_acc_reshaped = np.append(train_acc_reshaped,test_acc_reshaped, axis=0)\n",
        "train_gyro_reshaped = np.append(train_gyro_reshaped,test_gyro_reshaped, axis=0)\n",
        "train_grav_reshaped = np.append(train_grav_reshaped,test_grav_reshaped, axis=0)\n",
        "train_linAcc_reshaped = np.append(train_linAcc_reshaped,test_linAcc_reshaped, axis=0)\n",
        "train_MsAcc_reshaped = np.append(train_MsAcc_reshaped,test_MsAcc_reshaped, axis=0)\n",
        "train_MsGyro_reshaped = np.append(train_MsGyro_reshaped,test_MsGyro_reshaped, axis=0)\n",
        "train_MsMag_reshaped = np.append(train_MsMag_reshaped,test_MsMag_reshaped, axis=0)\n",
        "train_jinsAcc_reshaped = np.append(train_jinsAcc_reshaped,test_jinsAcc_reshaped, axis=0)\n",
        "train_jinsGyro_reshaped = np.append(train_jinsGyro_reshaped,test_jinsGyro_reshaped, axis=0)\n",
        "\n",
        "\n",
        "# print(\"Shape of all sensors after up/down sample... \", train_acc_reshaped.shape, train_gyro_reshaped.shape, train_grav_reshaped.shape, train_linAcc_reshaped.shape\n",
        "#                        , train_MsAcc_reshaped.shape, train_MsGyro_reshaped.shape, train_MsMag_reshaped.shape,\n",
        "#                        train_jinsAcc_reshaped.shape, train_jinsGyro_reshaped.shape)\n",
        "\n",
        "# all data of shape 4572,400,3\n",
        "# 4572 = 2284(training) + 2288(testing)\n",
        "\n",
        "\n",
        "# stack\n",
        "all_data = np.stack([train_acc_reshaped, train_gyro_reshaped, train_grav_reshaped, train_linAcc_reshaped\n",
        "                       , train_MsAcc_reshaped, train_MsGyro_reshaped, train_MsMag_reshaped,\n",
        "                       train_jinsAcc_reshaped, train_jinsGyro_reshaped], axis=-1)\n",
        "\n",
        "all_Label = np.append(train_Label, test_Label, axis=-1)\n",
        "print(all_data.shape)"
      ]
    },
    {
      "cell_type": "code",
      "execution_count": null,
      "metadata": {
        "colab": {
          "base_uri": "https://localhost:8080/"
        },
        "id": "eHUXojH7_Qgu",
        "outputId": "0b10727b-4463-4251-cd2f-a10a494f4c02"
      },
      "outputs": [
        {
          "output_type": "stream",
          "name": "stdout",
          "text": [
            "\n",
            "Shape of training and testin data + labels...\n",
            "\n",
            "(2743, 400, 3, 9) (1829, 400, 3, 9)\n",
            "(2743,) (1829,)\n",
            "Shape of training + validation Data\n",
            "(2194, 400, 3, 9) (2194,)\n",
            "Shape of training + validation Labels\n",
            "(2194, 55) (549, 55)\n"
          ]
        }
      ],
      "source": [
        "# 90% training data + labels\n",
        "train_data = all_data[: int(all_data.shape[0]*0.6)]\n",
        "# 10% testing data + labels\n",
        "test_data = all_data[int(all_data.shape[0]*0.6):]\n",
        "train_labels = all_Label[: int(all_Label.shape[0]*0.6)]\n",
        "test_labels = all_Label[int(all_Label.shape[0]*0.6):]\n",
        "\n",
        "print(\"\\nShape of training and testin data + labels...\\n\")\n",
        "print(train_data.shape, test_data.shape)\n",
        "print(train_labels.shape, test_labels.shape)\n",
        "\n",
        "\n",
        "# Split the data into training and validation sets\n",
        "x_train, x_val, y_train, y_val = train_test_split(train_data, train_labels, test_size=0.2, random_state=33)\n",
        "\n",
        "print(\"Shape of training + validation Data\")\n",
        "print(np.shape(x_train), np.shape(y_train))\n",
        "\n",
        "y_train = to_categorical(y_train, num_classes=55)\n",
        "y_val = to_categorical(y_val, num_classes=55)\n",
        "\n",
        "print(\"Shape of training + validation Labels\")\n",
        "print(np.shape(y_train), np.shape(y_val))\n"
      ]
    },
    {
      "cell_type": "code",
      "execution_count": null,
      "metadata": {
        "id": "jRFmrHV9_Qgw"
      },
      "outputs": [],
      "source": [
        "# HYPER PARAMTERS\n",
        "\n",
        "# Activation function of the convolutional layer(s)\n",
        "activationConv = 'relu'\n",
        "\n",
        "# Output dimension of the LSTM\n",
        "outputLSTM = 100\n",
        "\n",
        "# Parameters of the dense layer\n",
        "activationMLP = 'relu'\n",
        "inputMLP = 4500\n",
        "\n",
        "# Training parameters\n",
        "batchSize = 320\n",
        "numberOfEpochs = 30\n",
        "learningRate = 0.001\n",
        "\n",
        "input_shape = (400,3,9)\n",
        "nbClasses = 55\n",
        "timeWindow = 400\n",
        "nbSensors = 9"
      ]
    },
    {
      "cell_type": "code",
      "execution_count": null,
      "metadata": {
        "id": "USGGkOpb_Qgy"
      },
      "outputs": [],
      "source": [
        "#-------------------------------------------------------------------------------------------------------\n",
        "# normLstm: define a batch normalization + LSTM DNN\n",
        "#-------------------------------------------------------------------------------------------------------\n",
        "def normLstm(\n",
        "    inputShape,\n",
        "    timeWindow,\n",
        "    nbSensors,\n",
        "    outputLSTM,\n",
        "    inputMLP,\n",
        "    activationMLP,\n",
        "    nbClasses,\n",
        "    withSoftmax=True):\n",
        "\n",
        "    model = Sequential()\n",
        "    nbFeaturePerSensor = 3\n",
        "\n",
        "    # Batch normalization layer\n",
        "    model.add(BatchNormalization(input_shape=inputShape))\n",
        "\n",
        "    # LSTM layer with a many-to-one implementation\n",
        "    # Note: size of the output = (outputSizeLastConv, outputLSTM)\n",
        "    model.add(Reshape((timeWindow, nbSensors * nbFeaturePerSensor)))\n",
        "    model.add(LSTM(outputLSTM, return_sequences=True,kernel_regularizer=regularizers.l2(0.01)))\n",
        "    model.add(Dropout(0.3))\n",
        "    model.add(LSTM(outputLSTM, return_sequences=False,kernel_regularizer=regularizers.l2(0.01)))\n",
        "    model.add(Dropout(0.2))\n",
        "\n",
        "    # Fully-connected layer with regularization\n",
        "    model.add(Dense(inputMLP, activation=activationMLP))\n",
        "\n",
        "    # Dropout layer\n",
        "    model.add(Dropout(0.2))\n",
        "\n",
        "    # # Additional regularization layers\n",
        "    # model.add(Dense(inputMLP, activation=activationMLP, kernel_regularizer=regularizers.l2(0.001)))\n",
        "    # model.add(Dropout(0.2))\n",
        "\n",
        "    # Softmax layer\n",
        "    if withSoftmax:\n",
        "        model.add(Dense(nbClasses, activation='softmax'))\n",
        "        \n",
        "    return model"
      ]
    },
    {
      "cell_type": "code",
      "execution_count": null,
      "metadata": {
        "id": "7hWopXal_Qgz"
      },
      "outputs": [],
      "source": [
        "model = normLstm(inputShape=input_shape,\n",
        "                     timeWindow=timeWindow,\n",
        "                     nbSensors=nbSensors,\n",
        "                     outputLSTM=outputLSTM,\n",
        "                     inputMLP=inputMLP,\n",
        "                     activationMLP=activationMLP,\n",
        "                     nbClasses=nbClasses)\n",
        "\n",
        "\n",
        "\n",
        "model.compile(\n",
        "    loss='categorical_crossentropy',\n",
        "    optimizer=Adam(learning_rate=learningRate),\n",
        "    metrics=['accuracy']\n",
        ")"
      ]
    },
    {
      "cell_type": "code",
      "execution_count": null,
      "metadata": {
        "colab": {
          "base_uri": "https://localhost:8080/"
        },
        "id": "9OwCIlX6_Qg0",
        "outputId": "ecabe189-69f0-44d8-dee0-2b5ee40f9a4e"
      },
      "outputs": [
        {
          "output_type": "stream",
          "name": "stdout",
          "text": [
            "Model: \"sequential\"\n",
            "_________________________________________________________________\n",
            " Layer (type)                Output Shape              Param #   \n",
            "=================================================================\n",
            " batch_normalization (BatchN  (None, 400, 3, 9)        36        \n",
            " ormalization)                                                   \n",
            "                                                                 \n",
            " reshape (Reshape)           (None, 400, 27)           0         \n",
            "                                                                 \n",
            " lstm (LSTM)                 (None, 400, 150)          106800    \n",
            "                                                                 \n",
            " dropout (Dropout)           (None, 400, 150)          0         \n",
            "                                                                 \n",
            " lstm_1 (LSTM)               (None, 150)               180600    \n",
            "                                                                 \n",
            " dropout_1 (Dropout)         (None, 150)               0         \n",
            "                                                                 \n",
            " dense (Dense)               (None, 4500)              679500    \n",
            "                                                                 \n",
            " dropout_2 (Dropout)         (None, 4500)              0         \n",
            "                                                                 \n",
            " dense_1 (Dense)             (None, 55)                247555    \n",
            "                                                                 \n",
            "=================================================================\n",
            "Total params: 1,214,491\n",
            "Trainable params: 1,214,473\n",
            "Non-trainable params: 18\n",
            "_________________________________________________________________\n"
          ]
        }
      ],
      "source": [
        "model.summary()"
      ]
    },
    {
      "cell_type": "code",
      "execution_count": null,
      "metadata": {
        "colab": {
          "base_uri": "https://localhost:8080/"
        },
        "id": "rEMqMyRR_Qg1",
        "outputId": "77476a32-54a5-4884-f56c-a569c09ae6fc"
      },
      "outputs": [
        {
          "output_type": "stream",
          "name": "stdout",
          "text": [
            "Epoch 1/30\n",
            "7/7 [==============================] - 36s 5s/step - loss: 0.7828 - accuracy: 0.8432 - val_loss: 2.6009 - val_accuracy: 0.5774\n",
            "Epoch 2/30\n",
            "7/7 [==============================] - 33s 5s/step - loss: 0.7760 - accuracy: 0.8500 - val_loss: 2.5687 - val_accuracy: 0.5683\n",
            "Epoch 3/30\n",
            "7/7 [==============================] - 36s 5s/step - loss: 0.7673 - accuracy: 0.8523 - val_loss: 2.5827 - val_accuracy: 0.5811\n",
            "Epoch 4/30\n",
            "7/7 [==============================] - 38s 6s/step - loss: 0.8032 - accuracy: 0.8332 - val_loss: 2.5804 - val_accuracy: 0.5665\n",
            "Epoch 5/30\n",
            "7/7 [==============================] - 37s 5s/step - loss: 0.7415 - accuracy: 0.8573 - val_loss: 2.6601 - val_accuracy: 0.5792\n",
            "Epoch 6/30\n",
            "7/7 [==============================] - 33s 5s/step - loss: 0.7489 - accuracy: 0.8491 - val_loss: 2.6114 - val_accuracy: 0.6138\n",
            "Epoch 7/30\n",
            "7/7 [==============================] - 36s 5s/step - loss: 0.7499 - accuracy: 0.8482 - val_loss: 2.5941 - val_accuracy: 0.6102\n",
            "Epoch 8/30\n",
            "7/7 [==============================] - 34s 5s/step - loss: 0.7628 - accuracy: 0.8532 - val_loss: 2.7968 - val_accuracy: 0.5592\n",
            "Epoch 9/30\n",
            "7/7 [==============================] - 36s 5s/step - loss: 0.8001 - accuracy: 0.8464 - val_loss: 2.5947 - val_accuracy: 0.5956\n",
            "Epoch 10/30\n",
            "7/7 [==============================] - 33s 5s/step - loss: 0.7434 - accuracy: 0.8660 - val_loss: 2.5526 - val_accuracy: 0.5938\n",
            "Epoch 11/30\n",
            "7/7 [==============================] - 36s 5s/step - loss: 0.6947 - accuracy: 0.8783 - val_loss: 2.6195 - val_accuracy: 0.5956\n",
            "Epoch 12/30\n",
            "7/7 [==============================] - 34s 5s/step - loss: 0.6898 - accuracy: 0.8742 - val_loss: 2.6781 - val_accuracy: 0.6066\n",
            "Epoch 13/30\n",
            "7/7 [==============================] - 33s 5s/step - loss: 0.6555 - accuracy: 0.8906 - val_loss: 2.5727 - val_accuracy: 0.5865\n",
            "Epoch 14/30\n",
            "7/7 [==============================] - 34s 5s/step - loss: 0.6561 - accuracy: 0.8906 - val_loss: 2.5233 - val_accuracy: 0.6066\n",
            "Epoch 15/30\n",
            "7/7 [==============================] - 36s 5s/step - loss: 0.5950 - accuracy: 0.9070 - val_loss: 2.5827 - val_accuracy: 0.6193\n",
            "Epoch 16/30\n",
            "7/7 [==============================] - 35s 5s/step - loss: 0.5957 - accuracy: 0.9098 - val_loss: 2.6259 - val_accuracy: 0.6102\n",
            "Epoch 17/30\n",
            "7/7 [==============================] - 33s 5s/step - loss: 0.5694 - accuracy: 0.9125 - val_loss: 2.6828 - val_accuracy: 0.5956\n",
            "Epoch 18/30\n",
            "7/7 [==============================] - 36s 5s/step - loss: 0.5651 - accuracy: 0.9116 - val_loss: 2.6482 - val_accuracy: 0.6066\n",
            "Epoch 19/30\n",
            "7/7 [==============================] - 35s 5s/step - loss: 0.5563 - accuracy: 0.9157 - val_loss: 2.6368 - val_accuracy: 0.6047\n",
            "Epoch 20/30\n",
            "7/7 [==============================] - 36s 5s/step - loss: 0.5318 - accuracy: 0.9239 - val_loss: 2.6582 - val_accuracy: 0.6138\n",
            "Epoch 21/30\n",
            "7/7 [==============================] - 33s 5s/step - loss: 0.5676 - accuracy: 0.9116 - val_loss: 2.6880 - val_accuracy: 0.5883\n",
            "Epoch 22/30\n",
            "7/7 [==============================] - 36s 5s/step - loss: 0.5982 - accuracy: 0.9084 - val_loss: 2.5901 - val_accuracy: 0.6102\n",
            "Epoch 23/30\n",
            "7/7 [==============================] - 34s 5s/step - loss: 0.5886 - accuracy: 0.9011 - val_loss: 2.7031 - val_accuracy: 0.6102\n",
            "Epoch 24/30\n",
            "7/7 [==============================] - 36s 5s/step - loss: 0.5546 - accuracy: 0.9098 - val_loss: 2.7697 - val_accuracy: 0.5938\n",
            "Epoch 25/30\n",
            "7/7 [==============================] - 33s 5s/step - loss: 0.5645 - accuracy: 0.9070 - val_loss: 2.6985 - val_accuracy: 0.5865\n",
            "Epoch 26/30\n",
            "7/7 [==============================] - 36s 5s/step - loss: 0.5898 - accuracy: 0.8997 - val_loss: 2.8535 - val_accuracy: 0.6029\n",
            "Epoch 27/30\n",
            "7/7 [==============================] - 35s 5s/step - loss: 0.5603 - accuracy: 0.9043 - val_loss: 2.5324 - val_accuracy: 0.6193\n",
            "Epoch 28/30\n",
            "7/7 [==============================] - 33s 5s/step - loss: 0.5632 - accuracy: 0.9152 - val_loss: 2.7481 - val_accuracy: 0.5902\n",
            "Epoch 29/30\n",
            "7/7 [==============================] - 36s 5s/step - loss: 0.4960 - accuracy: 0.9294 - val_loss: 2.7385 - val_accuracy: 0.5974\n",
            "Epoch 30/30\n",
            "7/7 [==============================] - 34s 5s/step - loss: 0.5049 - accuracy: 0.9257 - val_loss: 2.6556 - val_accuracy: 0.5993\n"
          ]
        }
      ],
      "source": [
        "# Define the Keras TensorBoard callback.\n",
        "# logdir=\"logs/fit/\" + datetime.now().strftime(\"%Y%m%d-%H%M%S\")\n",
        "# tensorboard_callback = tf.keras.callbacks.TensorBoard(log_dir=logdir)\n",
        "\n",
        "\n",
        "history = model.fit(\n",
        "    x_train, y_train,\n",
        "    validation_data=(x_val, y_val),\n",
        "    epochs=30,\n",
        "    batch_size=batchSize,\n",
        "    # callbacks=[tensorboard_callback]\n",
        ")"
      ]
    },
    {
      "cell_type": "code",
      "execution_count": null,
      "metadata": {
        "id": "UTToKTSq_Qg2"
      },
      "outputs": [],
      "source": [
        "%tensorboard --logdir logs\n"
      ]
    },
    {
      "cell_type": "code",
      "execution_count": null,
      "metadata": {
        "id": "pYCZm7bs_Qg3"
      },
      "outputs": [],
      "source": [
        "train_loss = history.history['loss']\n",
        "val_loss = history.history['val_loss']\n",
        "\n",
        "# plot the graph\n",
        "plt.plot(train_loss, label='Train loss')\n",
        "plt.plot(val_loss, label='Validation loss')\n",
        "plt.xlabel('Epoch')\n",
        "plt.ylabel('Loss')\n",
        "plt.legend()\n",
        "plt.show()"
      ]
    },
    {
      "cell_type": "code",
      "execution_count": null,
      "metadata": {
        "colab": {
          "base_uri": "https://localhost:8080/"
        },
        "id": "CXYWkDeB_Qg4",
        "outputId": "80f3a0d9-5057-4106-fbdf-ab6330029315"
      },
      "outputs": [
        {
          "output_type": "stream",
          "name": "stdout",
          "text": [
            "58/58 [==============================] - 12s 200ms/step\n",
            "   Test accuracy = 51.23 %\n",
            "   Weighted F1-score = 0.5109\n",
            "   Average F1-score = 0.5077\n",
            "-------------------------------------------------------\n"
          ]
        }
      ],
      "source": [
        "estimatedLabels = np.argmax(model.predict(test_data),axis=-1)\n",
        "estimatedLabels = estimatedLabels.flatten()\n",
        "\n",
        "accuracy = accuracy_score(test_labels,estimatedLabels)\n",
        "weightedF1 = f1_score(test_labels,estimatedLabels,average='weighted')\n",
        "averageF1 = f1_score(test_labels,estimatedLabels,average='macro')\n",
        "#confMat = confusion_matrix(testingLabels,estimatedLabels,labels=labelsTable.values())\n",
        "allF1Scores = f1_score(test_labels,estimatedLabels,average=None)\n",
        "\n",
        "# Print results\n",
        "print('   Test accuracy = %.2f %%' % (accuracy*100))\n",
        "print('   Weighted F1-score = %.4f' % (weightedF1))\n",
        "print('   Average F1-score = %.4f' % (averageF1))\n",
        "# print('   All F1-scores:')\n",
        "# print(allF1Scores)\n",
        "print('-------------------------------------------------------')"
      ]
    }
  ],
  "metadata": {
    "kernelspec": {
      "display_name": "Python 3",
      "language": "python",
      "name": "python3"
    },
    "language_info": {
      "codemirror_mode": {
        "name": "ipython",
        "version": 3
      },
      "file_extension": ".py",
      "mimetype": "text/x-python",
      "name": "python",
      "nbconvert_exporter": "python",
      "pygments_lexer": "ipython3",
      "version": "3.10.6"
    },
    "orig_nbformat": 4,
    "colab": {
      "provenance": []
    }
  },
  "nbformat": 4,
  "nbformat_minor": 0
}